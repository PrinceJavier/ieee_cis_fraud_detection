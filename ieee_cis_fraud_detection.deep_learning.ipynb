{
    "nbformat_minor": 1, 
    "cells": [
        {
            "execution_count": 2, 
            "cell_type": "code", 
            "metadata": {}, 
            "outputs": [], 
            "source": "# The code was removed by Watson Studio for sharing."
        }, 
        {
            "execution_count": 11, 
            "cell_type": "code", 
            "metadata": {}, 
            "outputs": [
                {
                    "execution_count": 11, 
                    "metadata": {}, 
                    "data": {
                        "text/html": "<div>\n<style scoped>\n    .dataframe tbody tr th:only-of-type {\n        vertical-align: middle;\n    }\n\n    .dataframe tbody tr th {\n        vertical-align: top;\n    }\n\n    .dataframe thead th {\n        text-align: right;\n    }\n</style>\n<table border=\"1\" class=\"dataframe\">\n  <thead>\n    <tr style=\"text-align: right;\">\n      <th></th>\n      <th>TransactionID</th>\n      <th>isFraud</th>\n      <th>D13</th>\n      <th>D14</th>\n      <th>D12</th>\n      <th>id_04</th>\n      <th>id_03</th>\n      <th>D6</th>\n      <th>D9</th>\n      <th>D8</th>\n      <th>...</th>\n      <th>id_28</th>\n      <th>id_38</th>\n      <th>id_35</th>\n      <th>id_37</th>\n      <th>id_15</th>\n      <th>id_36</th>\n      <th>card4</th>\n      <th>card6</th>\n      <th>ProductCD</th>\n      <th>id_12</th>\n    </tr>\n  </thead>\n  <tbody>\n    <tr>\n      <th>0</th>\n      <td>2987071.0</td>\n      <td>0.0</td>\n      <td>0.0</td>\n      <td>0.0</td>\n      <td>0.0</td>\n      <td>0.0</td>\n      <td>0.0</td>\n      <td>0.0</td>\n      <td>0.000000</td>\n      <td>0.000000</td>\n      <td>...</td>\n      <td>None</td>\n      <td>None</td>\n      <td>None</td>\n      <td>None</td>\n      <td>None</td>\n      <td>None</td>\n      <td>visa</td>\n      <td>debit</td>\n      <td>W</td>\n      <td>None</td>\n    </tr>\n    <tr>\n      <th>1</th>\n      <td>2988706.0</td>\n      <td>1.0</td>\n      <td>0.0</td>\n      <td>0.0</td>\n      <td>0.0</td>\n      <td>0.0</td>\n      <td>0.0</td>\n      <td>0.0</td>\n      <td>0.583333</td>\n      <td>5.583333</td>\n      <td>...</td>\n      <td>Found</td>\n      <td>T</td>\n      <td>T</td>\n      <td>T</td>\n      <td>Found</td>\n      <td>F</td>\n      <td>visa</td>\n      <td>credit</td>\n      <td>H</td>\n      <td>Found</td>\n    </tr>\n    <tr>\n      <th>2</th>\n      <td>2988937.0</td>\n      <td>0.0</td>\n      <td>0.0</td>\n      <td>0.0</td>\n      <td>0.0</td>\n      <td>0.0</td>\n      <td>0.0</td>\n      <td>0.0</td>\n      <td>0.000000</td>\n      <td>0.000000</td>\n      <td>...</td>\n      <td>None</td>\n      <td>None</td>\n      <td>None</td>\n      <td>None</td>\n      <td>None</td>\n      <td>None</td>\n      <td>mastercard</td>\n      <td>debit</td>\n      <td>W</td>\n      <td>None</td>\n    </tr>\n    <tr>\n      <th>3</th>\n      <td>2988966.0</td>\n      <td>1.0</td>\n      <td>0.0</td>\n      <td>0.0</td>\n      <td>0.0</td>\n      <td>0.0</td>\n      <td>0.0</td>\n      <td>0.0</td>\n      <td>0.000000</td>\n      <td>0.000000</td>\n      <td>...</td>\n      <td>None</td>\n      <td>None</td>\n      <td>None</td>\n      <td>None</td>\n      <td>None</td>\n      <td>None</td>\n      <td>visa</td>\n      <td>debit</td>\n      <td>W</td>\n      <td>None</td>\n    </tr>\n    <tr>\n      <th>4</th>\n      <td>2988970.0</td>\n      <td>0.0</td>\n      <td>0.0</td>\n      <td>0.0</td>\n      <td>0.0</td>\n      <td>0.0</td>\n      <td>0.0</td>\n      <td>0.0</td>\n      <td>0.000000</td>\n      <td>0.000000</td>\n      <td>...</td>\n      <td>None</td>\n      <td>None</td>\n      <td>None</td>\n      <td>None</td>\n      <td>None</td>\n      <td>None</td>\n      <td>visa</td>\n      <td>credit</td>\n      <td>W</td>\n      <td>None</td>\n    </tr>\n  </tbody>\n</table>\n<p>5 rows \u00d7 413 columns</p>\n</div>", 
                        "text/plain": "   TransactionID  isFraud  D13  D14  D12  id_04  id_03   D6        D9  \\\n0      2987071.0      0.0  0.0  0.0  0.0    0.0    0.0  0.0  0.000000   \n1      2988706.0      1.0  0.0  0.0  0.0    0.0    0.0  0.0  0.583333   \n2      2988937.0      0.0  0.0  0.0  0.0    0.0    0.0  0.0  0.000000   \n3      2988966.0      1.0  0.0  0.0  0.0    0.0    0.0  0.0  0.000000   \n4      2988970.0      0.0  0.0  0.0  0.0    0.0    0.0  0.0  0.000000   \n\n         D8  ...  id_28  id_38  id_35  id_37  id_15  id_36       card4  \\\n0  0.000000  ...   None   None   None   None   None   None        visa   \n1  5.583333  ...  Found      T      T      T  Found      F        visa   \n2  0.000000  ...   None   None   None   None   None   None  mastercard   \n3  0.000000  ...   None   None   None   None   None   None        visa   \n4  0.000000  ...   None   None   None   None   None   None        visa   \n\n    card6  ProductCD  id_12  \n0   debit          W   None  \n1  credit          H  Found  \n2   debit          W   None  \n3   debit          W   None  \n4  credit          W   None  \n\n[5 rows x 413 columns]"
                    }, 
                    "output_type": "execute_result"
                }
            ], 
            "source": "body = client_938e241641654cf0a8c1bb0aefbea33d.get_object(Bucket='default-donotdelete-pr-l16zufkrkht8vm',Key='df_train_sample.csv')['Body']\n# add missing __iter__ method, so pandas accepts body as file-like object\nif not hasattr(body, \"__iter__\"): body.__iter__ = types.MethodType( __iter__, body )\n\ndf_train_sample = pd.read_csv(body)\ndf_train_sample.head()\n"
        }, 
        {
            "execution_count": 12, 
            "cell_type": "code", 
            "metadata": {}, 
            "outputs": [
                {
                    "execution_count": 12, 
                    "metadata": {}, 
                    "data": {
                        "text/plain": "TransactionID    0\nisFraud          0\nD13              0\nD14              0\nD12              0\nid_04            0\nid_03            0\nD6               0\nD9               0\nD8               0\nid_09            0\nid_10            0\nid_32            0\nid_14            0\nV153             0\nV161             0\nV162             0\nV163             0\nV138             0\nV157             0\nV156             0\nV155             0\nV154             0\nV139             0\nV149             0\nV158             0\nV147             0\nV146             0\nV142             0\nV141             0\n                ..\nC4               0\nC5               0\nC6               0\nC7               0\nC8               0\nC9               0\nC10              0\nC11              0\nC14              0\nC13              0\nid_33            0\nid_30            0\nid_34            0\nDeviceInfo       0\nid_16            0\nP_emaildomain    0\nR_emaildomain    0\nid_31            0\nDeviceType       0\nid_29            0\nid_28            0\nid_38            0\nid_35            0\nid_37            0\nid_15            0\nid_36            0\ncard4            0\ncard6            0\nProductCD        0\nid_12            0\nLength: 413, dtype: int64"
                    }, 
                    "output_type": "execute_result"
                }
            ], 
            "source": "df_train_sample.isnull().sum()"
        }, 
        {
            "execution_count": null, 
            "cell_type": "code", 
            "metadata": {}, 
            "outputs": [], 
            "source": "# Keras model definition"
        }, 
        {
            "execution_count": null, 
            "cell_type": "code", 
            "metadata": {}, 
            "outputs": [], 
            "source": "# Sklearn pipeline"
        }
    ], 
    "metadata": {
        "kernelspec": {
            "display_name": "Python 3.6", 
            "name": "python3", 
            "language": "python"
        }, 
        "language_info": {
            "mimetype": "text/x-python", 
            "nbconvert_exporter": "python", 
            "version": "3.6.8", 
            "name": "python", 
            "file_extension": ".py", 
            "pygments_lexer": "ipython3", 
            "codemirror_mode": {
                "version": 3, 
                "name": "ipython"
            }
        }
    }, 
    "nbformat": 4
}