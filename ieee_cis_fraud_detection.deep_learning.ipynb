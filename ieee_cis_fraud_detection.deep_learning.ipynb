{
    "nbformat_minor": 1, 
    "cells": [
        {
            "execution_count": 2, 
            "cell_type": "code", 
            "metadata": {}, 
            "outputs": [], 
            "source": "# The code was removed by Watson Studio for sharing."
        }, 
        {
            "execution_count": 3, 
            "cell_type": "code", 
            "metadata": {}, 
            "outputs": [
                {
                    "execution_count": 3, 
                    "metadata": {}, 
                    "data": {
                        "text/html": "<div>\n<style scoped>\n    .dataframe tbody tr th:only-of-type {\n        vertical-align: middle;\n    }\n\n    .dataframe tbody tr th {\n        vertical-align: top;\n    }\n\n    .dataframe thead th {\n        text-align: right;\n    }\n</style>\n<table border=\"1\" class=\"dataframe\">\n  <thead>\n    <tr style=\"text-align: right;\">\n      <th></th>\n      <th>TransactionID</th>\n      <th>isFraud</th>\n      <th>D13</th>\n      <th>D14</th>\n      <th>D12</th>\n      <th>id_04</th>\n      <th>id_03</th>\n      <th>D6</th>\n      <th>D9</th>\n      <th>D8</th>\n      <th>...</th>\n      <th>id_28</th>\n      <th>id_38</th>\n      <th>id_35</th>\n      <th>id_37</th>\n      <th>id_15</th>\n      <th>id_36</th>\n      <th>card4</th>\n      <th>card6</th>\n      <th>ProductCD</th>\n      <th>id_12</th>\n    </tr>\n  </thead>\n  <tbody>\n    <tr>\n      <th>0</th>\n      <td>2987071.0</td>\n      <td>0.0</td>\n      <td>0.0</td>\n      <td>0.0</td>\n      <td>0.0</td>\n      <td>0.0</td>\n      <td>0.0</td>\n      <td>0.0</td>\n      <td>0.000000</td>\n      <td>0.000000</td>\n      <td>...</td>\n      <td>None</td>\n      <td>None</td>\n      <td>None</td>\n      <td>None</td>\n      <td>None</td>\n      <td>None</td>\n      <td>visa</td>\n      <td>debit</td>\n      <td>W</td>\n      <td>None</td>\n    </tr>\n    <tr>\n      <th>1</th>\n      <td>2988706.0</td>\n      <td>1.0</td>\n      <td>0.0</td>\n      <td>0.0</td>\n      <td>0.0</td>\n      <td>0.0</td>\n      <td>0.0</td>\n      <td>0.0</td>\n      <td>0.583333</td>\n      <td>5.583333</td>\n      <td>...</td>\n      <td>Found</td>\n      <td>T</td>\n      <td>T</td>\n      <td>T</td>\n      <td>Found</td>\n      <td>F</td>\n      <td>visa</td>\n      <td>credit</td>\n      <td>H</td>\n      <td>Found</td>\n    </tr>\n    <tr>\n      <th>2</th>\n      <td>2988937.0</td>\n      <td>0.0</td>\n      <td>0.0</td>\n      <td>0.0</td>\n      <td>0.0</td>\n      <td>0.0</td>\n      <td>0.0</td>\n      <td>0.0</td>\n      <td>0.000000</td>\n      <td>0.000000</td>\n      <td>...</td>\n      <td>None</td>\n      <td>None</td>\n      <td>None</td>\n      <td>None</td>\n      <td>None</td>\n      <td>None</td>\n      <td>mastercard</td>\n      <td>debit</td>\n      <td>W</td>\n      <td>None</td>\n    </tr>\n    <tr>\n      <th>3</th>\n      <td>2988966.0</td>\n      <td>1.0</td>\n      <td>0.0</td>\n      <td>0.0</td>\n      <td>0.0</td>\n      <td>0.0</td>\n      <td>0.0</td>\n      <td>0.0</td>\n      <td>0.000000</td>\n      <td>0.000000</td>\n      <td>...</td>\n      <td>None</td>\n      <td>None</td>\n      <td>None</td>\n      <td>None</td>\n      <td>None</td>\n      <td>None</td>\n      <td>visa</td>\n      <td>debit</td>\n      <td>W</td>\n      <td>None</td>\n    </tr>\n    <tr>\n      <th>4</th>\n      <td>2988970.0</td>\n      <td>0.0</td>\n      <td>0.0</td>\n      <td>0.0</td>\n      <td>0.0</td>\n      <td>0.0</td>\n      <td>0.0</td>\n      <td>0.0</td>\n      <td>0.000000</td>\n      <td>0.000000</td>\n      <td>...</td>\n      <td>None</td>\n      <td>None</td>\n      <td>None</td>\n      <td>None</td>\n      <td>None</td>\n      <td>None</td>\n      <td>visa</td>\n      <td>credit</td>\n      <td>W</td>\n      <td>None</td>\n    </tr>\n  </tbody>\n</table>\n<p>5 rows \u00d7 413 columns</p>\n</div>", 
                        "text/plain": "   TransactionID  isFraud  D13  D14  D12  id_04  id_03   D6        D9  \\\n0      2987071.0      0.0  0.0  0.0  0.0    0.0    0.0  0.0  0.000000   \n1      2988706.0      1.0  0.0  0.0  0.0    0.0    0.0  0.0  0.583333   \n2      2988937.0      0.0  0.0  0.0  0.0    0.0    0.0  0.0  0.000000   \n3      2988966.0      1.0  0.0  0.0  0.0    0.0    0.0  0.0  0.000000   \n4      2988970.0      0.0  0.0  0.0  0.0    0.0    0.0  0.0  0.000000   \n\n         D8  ...  id_28  id_38  id_35  id_37  id_15  id_36       card4  \\\n0  0.000000  ...   None   None   None   None   None   None        visa   \n1  5.583333  ...  Found      T      T      T  Found      F        visa   \n2  0.000000  ...   None   None   None   None   None   None  mastercard   \n3  0.000000  ...   None   None   None   None   None   None        visa   \n4  0.000000  ...   None   None   None   None   None   None        visa   \n\n    card6  ProductCD  id_12  \n0   debit          W   None  \n1  credit          H  Found  \n2   debit          W   None  \n3   debit          W   None  \n4  credit          W   None  \n\n[5 rows x 413 columns]"
                    }, 
                    "output_type": "execute_result"
                }
            ], 
            "source": "body = client_938e241641654cf0a8c1bb0aefbea33d.get_object(Bucket='default-donotdelete-pr-l16zufkrkht8vm',Key='df_train_sample.csv')['Body']\n# add missing __iter__ method, so pandas accepts body as file-like object\nif not hasattr(body, \"__iter__\"): body.__iter__ = types.MethodType( __iter__, body )\n\ndf_train_sample = pd.read_csv(body)\ndf_train_sample.head()\n"
        }, 
        {
            "execution_count": null, 
            "cell_type": "code", 
            "metadata": {}, 
            "outputs": [], 
            "source": "df_valid"
        }, 
        {
            "execution_count": null, 
            "cell_type": "code", 
            "metadata": {}, 
            "outputs": [], 
            "source": "# Keras model definition"
        }, 
        {
            "execution_count": 10, 
            "cell_type": "code", 
            "metadata": {}, 
            "outputs": [], 
            "source": "# Sklearn pipeline\nfrom sklearn.pipeline import Pipeline\nfrom sklearn.preprocessing import StandardScaler, OneHotEncoder\nfrom sklearn.compose import ColumnTransformer"
        }, 
        {
            "execution_count": 12, 
            "cell_type": "code", 
            "metadata": {}, 
            "outputs": [], 
            "source": "categorical_features = ['id_33', 'id_30', 'id_34', 'DeviceInfo', 'id_16', \n       'P_emaildomain', 'R_emaildomain', 'id_31', 'DeviceType', \n       'id_29', 'id_28', 'id_38', 'id_35', 'id_37', 'id_15',\n      'id_36', 'card4', 'card6', 'ProductCD', 'id_12'] \nnumeric_features = [c for c in df_train_sample.columns if c not in categorical_features and c not in ['TransactionID', 'isFraud']]\n"
        }, 
        {
            "execution_count": 16, 
            "cell_type": "code", 
            "metadata": {}, 
            "outputs": [], 
            "source": "X_train = df_train_sample.drop(['TransactionID', 'isFraud'], axis=1)\ny_train = df_train_sample.isFraud"
        }, 
        {
            "execution_count": null, 
            "cell_type": "code", 
            "metadata": {}, 
            "outputs": [], 
            "source": "# We create the preprocessing pipelines for both numeric and categorical data.\nnumeric_transformer = Pipeline(steps=[\n    ('scaler', StandardScaler())])\n\ncategorical_transformer = Pipeline(steps=[\n    ('onehot', OneHotEncoder(handle_unknown='ignore'))])\npreprocessor = ColumnTransformer(\n    transformers=[\n        ('num', numeric_transformer, numeric_features),\n        ('cat', categorical_transformer, categorical_features)])\n\n# Append classifier to preprocessing pipeline.\n# Now we have a full prediction pipeline.\nclf = Pipeline(steps=[('preprocessor', preprocessor),\n                      ('classifier', model(.......))])\n\nclf.fit(X_train, y_train)"
        }
    ], 
    "metadata": {
        "kernelspec": {
            "display_name": "Python 3.6", 
            "name": "python3", 
            "language": "python"
        }, 
        "language_info": {
            "mimetype": "text/x-python", 
            "nbconvert_exporter": "python", 
            "version": "3.6.8", 
            "name": "python", 
            "file_extension": ".py", 
            "pygments_lexer": "ipython3", 
            "codemirror_mode": {
                "version": 3, 
                "name": "ipython"
            }
        }
    }, 
    "nbformat": 4
}