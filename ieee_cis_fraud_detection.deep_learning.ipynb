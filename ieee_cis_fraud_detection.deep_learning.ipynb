{
 "cells": [
  {
   "cell_type": "markdown",
   "metadata": {},
   "source": [
    "# Deep learning model"
   ]
  },
  {
   "cell_type": "code",
   "execution_count": 29,
   "metadata": {},
   "outputs": [],
   "source": [
    "import pandas as pd\n",
    "import numpy as np\n",
    "import matplotlib.pyplot as plt"
   ]
  },
  {
   "cell_type": "code",
   "execution_count": 2,
   "metadata": {},
   "outputs": [
    {
     "data": {
      "text/html": [
       "<div>\n",
       "<style scoped>\n",
       "    .dataframe tbody tr th:only-of-type {\n",
       "        vertical-align: middle;\n",
       "    }\n",
       "\n",
       "    .dataframe tbody tr th {\n",
       "        vertical-align: top;\n",
       "    }\n",
       "\n",
       "    .dataframe thead th {\n",
       "        text-align: right;\n",
       "    }\n",
       "</style>\n",
       "<table border=\"1\" class=\"dataframe\">\n",
       "  <thead>\n",
       "    <tr style=\"text-align: right;\">\n",
       "      <th></th>\n",
       "      <th>TransactionID</th>\n",
       "      <th>isFraud</th>\n",
       "      <th>D13</th>\n",
       "      <th>D14</th>\n",
       "      <th>D12</th>\n",
       "      <th>id_04</th>\n",
       "      <th>id_03</th>\n",
       "      <th>D6</th>\n",
       "      <th>D9</th>\n",
       "      <th>D8</th>\n",
       "      <th>...</th>\n",
       "      <th>id_28</th>\n",
       "      <th>id_38</th>\n",
       "      <th>id_35</th>\n",
       "      <th>id_37</th>\n",
       "      <th>id_15</th>\n",
       "      <th>id_36</th>\n",
       "      <th>card4</th>\n",
       "      <th>card6</th>\n",
       "      <th>ProductCD</th>\n",
       "      <th>id_12</th>\n",
       "    </tr>\n",
       "  </thead>\n",
       "  <tbody>\n",
       "    <tr>\n",
       "      <th>0</th>\n",
       "      <td>2987071.0</td>\n",
       "      <td>0.0</td>\n",
       "      <td>0.0</td>\n",
       "      <td>0.0</td>\n",
       "      <td>0.0</td>\n",
       "      <td>0.0</td>\n",
       "      <td>0.0</td>\n",
       "      <td>0.0</td>\n",
       "      <td>0.000000</td>\n",
       "      <td>0.000000</td>\n",
       "      <td>...</td>\n",
       "      <td>None</td>\n",
       "      <td>None</td>\n",
       "      <td>None</td>\n",
       "      <td>None</td>\n",
       "      <td>None</td>\n",
       "      <td>None</td>\n",
       "      <td>visa</td>\n",
       "      <td>debit</td>\n",
       "      <td>W</td>\n",
       "      <td>None</td>\n",
       "    </tr>\n",
       "    <tr>\n",
       "      <th>1</th>\n",
       "      <td>2988706.0</td>\n",
       "      <td>1.0</td>\n",
       "      <td>0.0</td>\n",
       "      <td>0.0</td>\n",
       "      <td>0.0</td>\n",
       "      <td>0.0</td>\n",
       "      <td>0.0</td>\n",
       "      <td>0.0</td>\n",
       "      <td>0.583333</td>\n",
       "      <td>5.583333</td>\n",
       "      <td>...</td>\n",
       "      <td>Found</td>\n",
       "      <td>T</td>\n",
       "      <td>T</td>\n",
       "      <td>T</td>\n",
       "      <td>Found</td>\n",
       "      <td>F</td>\n",
       "      <td>visa</td>\n",
       "      <td>credit</td>\n",
       "      <td>H</td>\n",
       "      <td>Found</td>\n",
       "    </tr>\n",
       "    <tr>\n",
       "      <th>2</th>\n",
       "      <td>2988937.0</td>\n",
       "      <td>0.0</td>\n",
       "      <td>0.0</td>\n",
       "      <td>0.0</td>\n",
       "      <td>0.0</td>\n",
       "      <td>0.0</td>\n",
       "      <td>0.0</td>\n",
       "      <td>0.0</td>\n",
       "      <td>0.000000</td>\n",
       "      <td>0.000000</td>\n",
       "      <td>...</td>\n",
       "      <td>None</td>\n",
       "      <td>None</td>\n",
       "      <td>None</td>\n",
       "      <td>None</td>\n",
       "      <td>None</td>\n",
       "      <td>None</td>\n",
       "      <td>mastercard</td>\n",
       "      <td>debit</td>\n",
       "      <td>W</td>\n",
       "      <td>None</td>\n",
       "    </tr>\n",
       "    <tr>\n",
       "      <th>3</th>\n",
       "      <td>2988966.0</td>\n",
       "      <td>1.0</td>\n",
       "      <td>0.0</td>\n",
       "      <td>0.0</td>\n",
       "      <td>0.0</td>\n",
       "      <td>0.0</td>\n",
       "      <td>0.0</td>\n",
       "      <td>0.0</td>\n",
       "      <td>0.000000</td>\n",
       "      <td>0.000000</td>\n",
       "      <td>...</td>\n",
       "      <td>None</td>\n",
       "      <td>None</td>\n",
       "      <td>None</td>\n",
       "      <td>None</td>\n",
       "      <td>None</td>\n",
       "      <td>None</td>\n",
       "      <td>visa</td>\n",
       "      <td>debit</td>\n",
       "      <td>W</td>\n",
       "      <td>None</td>\n",
       "    </tr>\n",
       "    <tr>\n",
       "      <th>4</th>\n",
       "      <td>2988970.0</td>\n",
       "      <td>0.0</td>\n",
       "      <td>0.0</td>\n",
       "      <td>0.0</td>\n",
       "      <td>0.0</td>\n",
       "      <td>0.0</td>\n",
       "      <td>0.0</td>\n",
       "      <td>0.0</td>\n",
       "      <td>0.000000</td>\n",
       "      <td>0.000000</td>\n",
       "      <td>...</td>\n",
       "      <td>None</td>\n",
       "      <td>None</td>\n",
       "      <td>None</td>\n",
       "      <td>None</td>\n",
       "      <td>None</td>\n",
       "      <td>None</td>\n",
       "      <td>visa</td>\n",
       "      <td>credit</td>\n",
       "      <td>W</td>\n",
       "      <td>None</td>\n",
       "    </tr>\n",
       "  </tbody>\n",
       "</table>\n",
       "<p>5 rows × 413 columns</p>\n",
       "</div>"
      ],
      "text/plain": [
       "   TransactionID  isFraud  D13  D14  D12  id_04  id_03   D6        D9  \\\n",
       "0      2987071.0      0.0  0.0  0.0  0.0    0.0    0.0  0.0  0.000000   \n",
       "1      2988706.0      1.0  0.0  0.0  0.0    0.0    0.0  0.0  0.583333   \n",
       "2      2988937.0      0.0  0.0  0.0  0.0    0.0    0.0  0.0  0.000000   \n",
       "3      2988966.0      1.0  0.0  0.0  0.0    0.0    0.0  0.0  0.000000   \n",
       "4      2988970.0      0.0  0.0  0.0  0.0    0.0    0.0  0.0  0.000000   \n",
       "\n",
       "         D8  ...  id_28  id_38  id_35  id_37  id_15  id_36       card4  \\\n",
       "0  0.000000  ...   None   None   None   None   None   None        visa   \n",
       "1  5.583333  ...  Found      T      T      T  Found      F        visa   \n",
       "2  0.000000  ...   None   None   None   None   None   None  mastercard   \n",
       "3  0.000000  ...   None   None   None   None   None   None        visa   \n",
       "4  0.000000  ...   None   None   None   None   None   None        visa   \n",
       "\n",
       "    card6  ProductCD  id_12  \n",
       "0   debit          W   None  \n",
       "1  credit          H  Found  \n",
       "2   debit          W   None  \n",
       "3   debit          W   None  \n",
       "4  credit          W   None  \n",
       "\n",
       "[5 rows x 413 columns]"
      ]
     },
     "execution_count": 2,
     "metadata": {},
     "output_type": "execute_result"
    }
   ],
   "source": [
    "df_train_sample = pd.read_csv('data/df_train_sample.csv')\n",
    "df_train_sample.head()\n"
   ]
  },
  {
   "cell_type": "code",
   "execution_count": 3,
   "metadata": {},
   "outputs": [],
   "source": [
    "X_train = df_train_sample.drop(['TransactionID', 'isFraud'], axis=1)\n",
    "y_train = df_train_sample.isFraud"
   ]
  },
  {
   "cell_type": "code",
   "execution_count": 4,
   "metadata": {},
   "outputs": [],
   "source": [
    "# Sklearn pipeline\n",
    "from sklearn.pipeline import Pipeline\n",
    "from sklearn.preprocessing import StandardScaler, OneHotEncoder\n",
    "from sklearn.compose import ColumnTransformer"
   ]
  },
  {
   "cell_type": "code",
   "execution_count": 5,
   "metadata": {},
   "outputs": [],
   "source": [
    "categorical_features = ['id_33', 'id_30', 'id_34', 'DeviceInfo', 'id_16', \n",
    "       'P_emaildomain', 'R_emaildomain', 'id_31', 'DeviceType', \n",
    "       'id_29', 'id_28', 'id_38', 'id_35', 'id_37', 'id_15',\n",
    "      'id_36', 'card4', 'card6', 'ProductCD', 'id_12'] \n",
    "numeric_features = [c for c in df_train_sample.columns if c not in categorical_features and c not in ['TransactionID', 'isFraud']]\n"
   ]
  },
  {
   "cell_type": "code",
   "execution_count": 6,
   "metadata": {},
   "outputs": [],
   "source": [
    "# We create the preprocessing pipelines for both numeric and categorical data.\n",
    "numeric_transformer = Pipeline(steps=[\n",
    "    ('scaler', StandardScaler())])\n",
    "\n",
    "categorical_transformer = Pipeline(steps=[\n",
    "    ('onehot', OneHotEncoder(handle_unknown='ignore'))])\n",
    "\n",
    "preprocessor = ColumnTransformer(\n",
    "    transformers=[\n",
    "        ('num', numeric_transformer, numeric_features),\n",
    "        ('cat', categorical_transformer, categorical_features)])"
   ]
  },
  {
   "cell_type": "code",
   "execution_count": 7,
   "metadata": {},
   "outputs": [],
   "source": [
    "# check the shape after preprocessing\n",
    "preprocess = Pipeline(steps=[('preprocessor', preprocessor)])"
   ]
  },
  {
   "cell_type": "code",
   "execution_count": 8,
   "metadata": {},
   "outputs": [
    {
     "data": {
      "text/plain": [
       "(34409, 411)"
      ]
     },
     "execution_count": 8,
     "metadata": {},
     "output_type": "execute_result"
    }
   ],
   "source": [
    "X_train.shape"
   ]
  },
  {
   "cell_type": "code",
   "execution_count": 9,
   "metadata": {},
   "outputs": [
    {
     "data": {
      "text/plain": [
       "(34409, 1394)"
      ]
     },
     "execution_count": 9,
     "metadata": {},
     "output_type": "execute_result"
    }
   ],
   "source": [
    "preprocess.fit_transform(X_train).shape"
   ]
  },
  {
   "cell_type": "code",
   "execution_count": 10,
   "metadata": {},
   "outputs": [],
   "source": [
    "input_dim = preprocess.fit_transform(X_train).shape[1]"
   ]
  },
  {
   "cell_type": "code",
   "execution_count": 11,
   "metadata": {},
   "outputs": [],
   "source": [
    "# custom AUC ROC metric\n",
    "\n",
    "import tensorflow as tf\n",
    "from sklearn.metrics import roc_auc_score\n",
    "\n",
    "def auroc(y_true, y_pred):\n",
    "    return tf.py_func(roc_auc_score, (y_true, y_pred), tf.double)"
   ]
  },
  {
   "cell_type": "code",
   "execution_count": 12,
   "metadata": {},
   "outputs": [
    {
     "name": "stderr",
     "output_type": "stream",
     "text": [
      "Using TensorFlow backend.\n",
      "WARNING: Logging before flag parsing goes to stderr.\n",
      "W1006 12:32:23.682326 140460977452800 deprecation_wrapper.py:119] From /home/ubuntu/anaconda3/envs/tensorflow_p36/lib/python3.6/site-packages/keras/backend/tensorflow_backend.py:74: The name tf.get_default_graph is deprecated. Please use tf.compat.v1.get_default_graph instead.\n",
      "\n",
      "W1006 12:32:23.696767 140460977452800 deprecation_wrapper.py:119] From /home/ubuntu/anaconda3/envs/tensorflow_p36/lib/python3.6/site-packages/keras/backend/tensorflow_backend.py:517: The name tf.placeholder is deprecated. Please use tf.compat.v1.placeholder instead.\n",
      "\n",
      "W1006 12:32:23.698337 140460977452800 deprecation_wrapper.py:119] From /home/ubuntu/anaconda3/envs/tensorflow_p36/lib/python3.6/site-packages/keras/backend/tensorflow_backend.py:4138: The name tf.random_uniform is deprecated. Please use tf.random.uniform instead.\n",
      "\n",
      "W1006 12:32:23.708359 140460977452800 deprecation_wrapper.py:119] From /home/ubuntu/anaconda3/envs/tensorflow_p36/lib/python3.6/site-packages/keras/backend/tensorflow_backend.py:133: The name tf.placeholder_with_default is deprecated. Please use tf.compat.v1.placeholder_with_default instead.\n",
      "\n",
      "W1006 12:32:23.713798 140460977452800 deprecation.py:506] From /home/ubuntu/anaconda3/envs/tensorflow_p36/lib/python3.6/site-packages/keras/backend/tensorflow_backend.py:3445: calling dropout (from tensorflow.python.ops.nn_ops) with keep_prob is deprecated and will be removed in a future version.\n",
      "Instructions for updating:\n",
      "Please use `rate` instead of `keep_prob`. Rate should be set to `rate = 1 - keep_prob`.\n"
     ]
    }
   ],
   "source": [
    "# Keras model definition\n",
    "\n",
    "from keras.models import Sequential\n",
    "from keras.layers import Dense, Activation, Dropout\n",
    "\n",
    "model = Sequential()\n",
    "model.add(Dense(256, activation='relu', input_dim=input_dim))\n",
    "model.add(Dropout(0.1))\n",
    "model.add(Dense(256, activation='relu'))\n",
    "model.add(Dropout(0.1))\n",
    "model.add(Dense(2, activation='softmax'))"
   ]
  },
  {
   "cell_type": "code",
   "execution_count": 13,
   "metadata": {},
   "outputs": [
    {
     "name": "stderr",
     "output_type": "stream",
     "text": [
      "W1006 12:32:23.756876 140460977452800 deprecation_wrapper.py:119] From /home/ubuntu/anaconda3/envs/tensorflow_p36/lib/python3.6/site-packages/keras/optimizers.py:790: The name tf.train.Optimizer is deprecated. Please use tf.compat.v1.train.Optimizer instead.\n",
      "\n",
      "W1006 12:32:23.770925 140460977452800 deprecation_wrapper.py:119] From /home/ubuntu/anaconda3/envs/tensorflow_p36/lib/python3.6/site-packages/keras/backend/tensorflow_backend.py:3376: The name tf.log is deprecated. Please use tf.math.log instead.\n",
      "\n",
      "W1006 12:32:23.774044 140460977452800 deprecation.py:323] From /home/ubuntu/anaconda3/envs/tensorflow_p36/lib/python3.6/site-packages/tensorflow/python/ops/nn_impl.py:180: add_dispatch_support.<locals>.wrapper (from tensorflow.python.ops.array_ops) is deprecated and will be removed in a future version.\n",
      "Instructions for updating:\n",
      "Use tf.where in 2.0, which has the same broadcast rule as np.where\n",
      "W1006 12:32:23.784192 140460977452800 deprecation.py:323] From <ipython-input-11-26ff85e5fe8b>:7: py_func (from tensorflow.python.ops.script_ops) is deprecated and will be removed in a future version.\n",
      "Instructions for updating:\n",
      "tf.py_func is deprecated in TF V2. Instead, there are two\n",
      "    options available in V2.\n",
      "    - tf.py_function takes a python function which manipulates tf eager\n",
      "    tensors instead of numpy arrays. It's easy to convert a tf eager tensor to\n",
      "    an ndarray (just call tensor.numpy()) but having access to eager tensors\n",
      "    means `tf.py_function`s can use accelerators such as GPUs as well as\n",
      "    being differentiable using a gradient tape.\n",
      "    - tf.numpy_function maintains the semantics of the deprecated tf.py_func\n",
      "    (it is not differentiable, and manipulates numpy arrays). It drops the\n",
      "    stateful argument making all functions stateful.\n",
      "    \n"
     ]
    }
   ],
   "source": [
    "# Build Model...\n",
    "\n",
    "model.compile(loss='binary_crossentropy', optimizer='adam',metrics=[auroc])"
   ]
  },
  {
   "cell_type": "code",
   "execution_count": 14,
   "metadata": {},
   "outputs": [
    {
     "name": "stdout",
     "output_type": "stream",
     "text": [
      "_________________________________________________________________\n",
      "Layer (type)                 Output Shape              Param #   \n",
      "=================================================================\n",
      "dense_1 (Dense)              (None, 256)               357120    \n",
      "_________________________________________________________________\n",
      "dropout_1 (Dropout)          (None, 256)               0         \n",
      "_________________________________________________________________\n",
      "dense_2 (Dense)              (None, 256)               65792     \n",
      "_________________________________________________________________\n",
      "dropout_2 (Dropout)          (None, 256)               0         \n",
      "_________________________________________________________________\n",
      "dense_3 (Dense)              (None, 2)                 514       \n",
      "=================================================================\n",
      "Total params: 423,426\n",
      "Trainable params: 423,426\n",
      "Non-trainable params: 0\n",
      "_________________________________________________________________\n"
     ]
    }
   ],
   "source": [
    "model.summary()"
   ]
  },
  {
   "cell_type": "code",
   "execution_count": null,
   "metadata": {},
   "outputs": [
    {
     "name": "stdout",
     "output_type": "stream",
     "text": [
      "Epoch 1/100\n",
      "34409/34409 [==============================] - 9s 266us/step - loss: 0.1286 - auroc: 0.9900\n",
      "Epoch 2/100\n",
      "34409/34409 [==============================] - 9s 266us/step - loss: 0.1166 - auroc: 0.9913\n",
      "Epoch 3/100\n",
      "34409/34409 [==============================] - 9s 266us/step - loss: 0.1244 - auroc: 0.9904\n",
      "Epoch 4/100\n",
      "34409/34409 [==============================] - 9s 267us/step - loss: 0.1171 - auroc: 0.9917\n",
      "Epoch 5/100\n",
      "34409/34409 [==============================] - 9s 266us/step - loss: 0.1168 - auroc: 0.9914\n",
      "Epoch 6/100\n",
      "34409/34409 [==============================] - 9s 266us/step - loss: 0.1164 - auroc: 0.9913\n",
      "Epoch 7/100\n",
      "34409/34409 [==============================] - 9s 265us/step - loss: 0.1136 - auroc: 0.9919\n",
      "Epoch 8/100\n",
      "34409/34409 [==============================] - 9s 266us/step - loss: 0.1183 - auroc: 0.9909\n",
      "Epoch 9/100\n",
      "34409/34409 [==============================] - 9s 267us/step - loss: 0.1143 - auroc: 0.9918\n",
      "Epoch 10/100\n",
      "34409/34409 [==============================] - 9s 266us/step - loss: 0.1143 - auroc: 0.9918\n",
      "Epoch 11/100\n",
      "34409/34409 [==============================] - 9s 265us/step - loss: 0.1182 - auroc: 0.9914\n",
      "Epoch 12/100\n",
      "34409/34409 [==============================] - 9s 267us/step - loss: 0.1136 - auroc: 0.9922\n",
      "Epoch 13/100\n",
      "34409/34409 [==============================] - 10s 302us/step - loss: 0.1102 - auroc: 0.9926\n",
      "Epoch 14/100\n",
      "34409/34409 [==============================] - 9s 266us/step - loss: 0.1089 - auroc: 0.9926\n",
      "Epoch 15/100\n",
      "34409/34409 [==============================] - 9s 266us/step - loss: 0.1105 - auroc: 0.9921\n",
      "Epoch 16/100\n",
      "34409/34409 [==============================] - 9s 266us/step - loss: 0.1056 - auroc: 0.9933\n",
      "Epoch 17/100\n",
      "34409/34409 [==============================] - 9s 265us/step - loss: 0.1034 - auroc: 0.9932\n",
      "Epoch 18/100\n",
      "34409/34409 [==============================] - 9s 266us/step - loss: 0.1144 - auroc: 0.9921\n",
      "Epoch 19/100\n",
      "34409/34409 [==============================] - 9s 267us/step - loss: 0.1094 - auroc: 0.9927\n",
      "Epoch 20/100\n",
      "34409/34409 [==============================] - 9s 266us/step - loss: 0.1084 - auroc: 0.9930\n",
      "Epoch 21/100\n",
      "34409/34409 [==============================] - 9s 266us/step - loss: 0.1035 - auroc: 0.9934\n",
      "Epoch 22/100\n",
      "34409/34409 [==============================] - 9s 267us/step - loss: 0.1019 - auroc: 0.9935\n",
      "Epoch 23/100\n",
      "34409/34409 [==============================] - 9s 265us/step - loss: 0.1091 - auroc: 0.9927\n",
      "Epoch 24/100\n",
      "34409/34409 [==============================] - 9s 265us/step - loss: 0.0994 - auroc: 0.9936\n",
      "Epoch 25/100\n",
      "34409/34409 [==============================] - 9s 266us/step - loss: 0.0995 - auroc: 0.9939\n",
      "Epoch 26/100\n",
      "34409/34409 [==============================] - 9s 267us/step - loss: 0.0984 - auroc: 0.9942\n",
      "Epoch 27/100\n",
      "34409/34409 [==============================] - 9s 266us/step - loss: 0.1062 - auroc: 0.9929\n",
      "Epoch 28/100\n",
      "34409/34409 [==============================] - 9s 266us/step - loss: 0.1006 - auroc: 0.9936\n",
      "Epoch 29/100\n",
      "34409/34409 [==============================] - 9s 266us/step - loss: 0.1014 - auroc: 0.9939\n",
      "Epoch 30/100\n",
      "34409/34409 [==============================] - 9s 266us/step - loss: 0.0960 - auroc: 0.9944\n",
      "Epoch 31/100\n",
      "34409/34409 [==============================] - 9s 266us/step - loss: 0.0968 - auroc: 0.9943\n",
      "Epoch 32/100\n",
      "34409/34409 [==============================] - 9s 266us/step - loss: 0.1003 - auroc: 0.9938\n",
      "Epoch 33/100\n",
      "34409/34409 [==============================] - 10s 303us/step - loss: 0.1024 - auroc: 0.9937\n",
      "Epoch 34/100\n",
      "34409/34409 [==============================] - 9s 266us/step - loss: 0.0940 - auroc: 0.9946\n",
      "Epoch 35/100\n",
      "34409/34409 [==============================] - 9s 267us/step - loss: 0.0971 - auroc: 0.9939\n",
      "Epoch 36/100\n",
      "34409/34409 [==============================] - 9s 266us/step - loss: 0.0920 - auroc: 0.9946\n",
      "Epoch 37/100\n",
      "34409/34409 [==============================] - 9s 266us/step - loss: 0.0960 - auroc: 0.9941\n",
      "Epoch 38/100\n",
      "34409/34409 [==============================] - 9s 266us/step - loss: 0.0931 - auroc: 0.9948\n",
      "Epoch 39/100\n",
      "34409/34409 [==============================] - 9s 267us/step - loss: 0.0955 - auroc: 0.9947\n",
      "Epoch 40/100\n",
      "34409/34409 [==============================] - 9s 266us/step - loss: 0.0965 - auroc: 0.9942\n",
      "Epoch 41/100\n",
      "34409/34409 [==============================] - 9s 267us/step - loss: 0.0925 - auroc: 0.9948\n",
      "Epoch 42/100\n",
      "34409/34409 [==============================] - 9s 266us/step - loss: 0.0884 - auroc: 0.9951\n",
      "Epoch 43/100\n",
      "34409/34409 [==============================] - 9s 266us/step - loss: 0.0941 - auroc: 0.9943\n",
      "Epoch 44/100\n",
      "34409/34409 [==============================] - 9s 266us/step - loss: 0.0922 - auroc: 0.9949\n",
      "Epoch 45/100\n",
      "34409/34409 [==============================] - 9s 266us/step - loss: 0.0910 - auroc: 0.9947\n",
      "Epoch 46/100\n",
      "34409/34409 [==============================] - 9s 265us/step - loss: 0.0911 - auroc: 0.9947\n",
      "Epoch 47/100\n",
      "34409/34409 [==============================] - 9s 266us/step - loss: 0.0907 - auroc: 0.9949\n",
      "Epoch 48/100\n",
      "34409/34409 [==============================] - 9s 265us/step - loss: 0.0902 - auroc: 0.9949\n",
      "Epoch 49/100\n",
      "34409/34409 [==============================] - 9s 265us/step - loss: 0.0919 - auroc: 0.9949\n",
      "Epoch 50/100\n",
      "34409/34409 [==============================] - 9s 267us/step - loss: 0.0945 - auroc: 0.9946\n",
      "Epoch 51/100\n",
      "34409/34409 [==============================] - 9s 265us/step - loss: 0.0935 - auroc: 0.9943\n",
      "Epoch 52/100\n",
      "34409/34409 [==============================] - 10s 303us/step - loss: 0.0909 - auroc: 0.9949\n",
      "Epoch 53/100\n",
      "34409/34409 [==============================] - 9s 267us/step - loss: 0.0874 - auroc: 0.9952\n",
      "Epoch 54/100\n",
      "34409/34409 [==============================] - 9s 267us/step - loss: 0.0926 - auroc: 0.9948\n",
      "Epoch 55/100\n",
      "34409/34409 [==============================] - 9s 266us/step - loss: 0.0858 - auroc: 0.9955\n",
      "Epoch 56/100\n",
      "34409/34409 [==============================] - 9s 267us/step - loss: 0.0878 - auroc: 0.9952\n",
      "Epoch 57/100\n",
      "34409/34409 [==============================] - 9s 266us/step - loss: 0.0897 - auroc: 0.9952\n",
      "Epoch 58/100\n",
      "34409/34409 [==============================] - 9s 267us/step - loss: 0.0877 - auroc: 0.9955\n",
      "Epoch 59/100\n",
      "34409/34409 [==============================] - 9s 266us/step - loss: 0.0837 - auroc: 0.9955\n",
      "Epoch 60/100\n",
      "34409/34409 [==============================] - 9s 266us/step - loss: 0.0860 - auroc: 0.9956\n",
      "Epoch 61/100\n",
      "34409/34409 [==============================] - 9s 266us/step - loss: 0.0856 - auroc: 0.9957\n",
      "Epoch 62/100\n",
      "34409/34409 [==============================] - 9s 266us/step - loss: 0.0899 - auroc: 0.9953\n",
      "Epoch 63/100\n",
      "34409/34409 [==============================] - 9s 267us/step - loss: 0.0803 - auroc: 0.9959\n",
      "Epoch 64/100\n",
      "34409/34409 [==============================] - 9s 266us/step - loss: 0.0849 - auroc: 0.9956\n",
      "Epoch 65/100\n",
      "34409/34409 [==============================] - 9s 265us/step - loss: 0.0859 - auroc: 0.9957\n",
      "Epoch 66/100\n",
      "34409/34409 [==============================] - 9s 266us/step - loss: 0.0875 - auroc: 0.9952\n",
      "Epoch 67/100\n",
      "11360/34409 [========>.....................] - ETA: 6s - loss: 0.0789 - auroc: 0.9962"
     ]
    }
   ],
   "source": [
    "model.fit(preprocess.fit_transform(X_train), pd.get_dummies(y_train), epochs=100)"
   ]
  },
  {
   "cell_type": "markdown",
   "metadata": {},
   "source": [
    "## Validation"
   ]
  },
  {
   "cell_type": "code",
   "execution_count": 73,
   "metadata": {},
   "outputs": [
    {
     "data": {
      "text/html": [
       "<div>\n",
       "<style scoped>\n",
       "    .dataframe tbody tr th:only-of-type {\n",
       "        vertical-align: middle;\n",
       "    }\n",
       "\n",
       "    .dataframe tbody tr th {\n",
       "        vertical-align: top;\n",
       "    }\n",
       "\n",
       "    .dataframe thead th {\n",
       "        text-align: right;\n",
       "    }\n",
       "</style>\n",
       "<table border=\"1\" class=\"dataframe\">\n",
       "  <thead>\n",
       "    <tr style=\"text-align: right;\">\n",
       "      <th></th>\n",
       "      <th>isFraud</th>\n",
       "      <th>D13</th>\n",
       "      <th>D14</th>\n",
       "      <th>D12</th>\n",
       "      <th>id_04</th>\n",
       "      <th>id_03</th>\n",
       "      <th>D6</th>\n",
       "      <th>D9</th>\n",
       "      <th>D8</th>\n",
       "      <th>id_09</th>\n",
       "      <th>...</th>\n",
       "      <th>id_28</th>\n",
       "      <th>id_38</th>\n",
       "      <th>id_35</th>\n",
       "      <th>id_37</th>\n",
       "      <th>id_15</th>\n",
       "      <th>id_36</th>\n",
       "      <th>card4</th>\n",
       "      <th>card6</th>\n",
       "      <th>ProductCD</th>\n",
       "      <th>id_12</th>\n",
       "    </tr>\n",
       "  </thead>\n",
       "  <tbody>\n",
       "    <tr>\n",
       "      <th>0</th>\n",
       "      <td>0.0</td>\n",
       "      <td>0.0</td>\n",
       "      <td>0.0</td>\n",
       "      <td>0.0</td>\n",
       "      <td>0.0</td>\n",
       "      <td>0.0</td>\n",
       "      <td>0.0</td>\n",
       "      <td>0.0</td>\n",
       "      <td>0.0</td>\n",
       "      <td>0.0</td>\n",
       "      <td>...</td>\n",
       "      <td>None</td>\n",
       "      <td>None</td>\n",
       "      <td>None</td>\n",
       "      <td>None</td>\n",
       "      <td>None</td>\n",
       "      <td>None</td>\n",
       "      <td>visa</td>\n",
       "      <td>debit</td>\n",
       "      <td>W</td>\n",
       "      <td>None</td>\n",
       "    </tr>\n",
       "    <tr>\n",
       "      <th>1</th>\n",
       "      <td>0.0</td>\n",
       "      <td>0.0</td>\n",
       "      <td>0.0</td>\n",
       "      <td>0.0</td>\n",
       "      <td>0.0</td>\n",
       "      <td>0.0</td>\n",
       "      <td>0.0</td>\n",
       "      <td>0.0</td>\n",
       "      <td>0.0</td>\n",
       "      <td>0.0</td>\n",
       "      <td>...</td>\n",
       "      <td>None</td>\n",
       "      <td>None</td>\n",
       "      <td>None</td>\n",
       "      <td>None</td>\n",
       "      <td>None</td>\n",
       "      <td>None</td>\n",
       "      <td>visa</td>\n",
       "      <td>debit</td>\n",
       "      <td>C</td>\n",
       "      <td>None</td>\n",
       "    </tr>\n",
       "    <tr>\n",
       "      <th>2</th>\n",
       "      <td>0.0</td>\n",
       "      <td>0.0</td>\n",
       "      <td>0.0</td>\n",
       "      <td>0.0</td>\n",
       "      <td>0.0</td>\n",
       "      <td>0.0</td>\n",
       "      <td>0.0</td>\n",
       "      <td>0.0</td>\n",
       "      <td>128.0</td>\n",
       "      <td>0.0</td>\n",
       "      <td>...</td>\n",
       "      <td>Found</td>\n",
       "      <td>T</td>\n",
       "      <td>T</td>\n",
       "      <td>T</td>\n",
       "      <td>Found</td>\n",
       "      <td>F</td>\n",
       "      <td>american express</td>\n",
       "      <td>credit</td>\n",
       "      <td>H</td>\n",
       "      <td>NotFound</td>\n",
       "    </tr>\n",
       "    <tr>\n",
       "      <th>3</th>\n",
       "      <td>0.0</td>\n",
       "      <td>0.0</td>\n",
       "      <td>0.0</td>\n",
       "      <td>163.0</td>\n",
       "      <td>0.0</td>\n",
       "      <td>0.0</td>\n",
       "      <td>163.0</td>\n",
       "      <td>0.0</td>\n",
       "      <td>0.0</td>\n",
       "      <td>0.0</td>\n",
       "      <td>...</td>\n",
       "      <td>None</td>\n",
       "      <td>None</td>\n",
       "      <td>None</td>\n",
       "      <td>None</td>\n",
       "      <td>None</td>\n",
       "      <td>None</td>\n",
       "      <td>visa</td>\n",
       "      <td>credit</td>\n",
       "      <td>C</td>\n",
       "      <td>None</td>\n",
       "    </tr>\n",
       "    <tr>\n",
       "      <th>4</th>\n",
       "      <td>0.0</td>\n",
       "      <td>0.0</td>\n",
       "      <td>0.0</td>\n",
       "      <td>0.0</td>\n",
       "      <td>0.0</td>\n",
       "      <td>0.0</td>\n",
       "      <td>0.0</td>\n",
       "      <td>0.0</td>\n",
       "      <td>0.0</td>\n",
       "      <td>0.0</td>\n",
       "      <td>...</td>\n",
       "      <td>None</td>\n",
       "      <td>None</td>\n",
       "      <td>None</td>\n",
       "      <td>None</td>\n",
       "      <td>None</td>\n",
       "      <td>None</td>\n",
       "      <td>mastercard</td>\n",
       "      <td>debit</td>\n",
       "      <td>W</td>\n",
       "      <td>None</td>\n",
       "    </tr>\n",
       "  </tbody>\n",
       "</table>\n",
       "<p>5 rows × 412 columns</p>\n",
       "</div>"
      ],
      "text/plain": [
       "   isFraud  D13  D14    D12  id_04  id_03     D6   D9     D8  id_09  ...  \\\n",
       "0      0.0  0.0  0.0    0.0    0.0    0.0    0.0  0.0    0.0    0.0  ...   \n",
       "1      0.0  0.0  0.0    0.0    0.0    0.0    0.0  0.0    0.0    0.0  ...   \n",
       "2      0.0  0.0  0.0    0.0    0.0    0.0    0.0  0.0  128.0    0.0  ...   \n",
       "3      0.0  0.0  0.0  163.0    0.0    0.0  163.0  0.0    0.0    0.0  ...   \n",
       "4      0.0  0.0  0.0    0.0    0.0    0.0    0.0  0.0    0.0    0.0  ...   \n",
       "\n",
       "   id_28  id_38  id_35  id_37  id_15  id_36             card4   card6  \\\n",
       "0   None   None   None   None   None   None              visa   debit   \n",
       "1   None   None   None   None   None   None              visa   debit   \n",
       "2  Found      T      T      T  Found      F  american express  credit   \n",
       "3   None   None   None   None   None   None              visa  credit   \n",
       "4   None   None   None   None   None   None        mastercard   debit   \n",
       "\n",
       "   ProductCD     id_12  \n",
       "0          W      None  \n",
       "1          C      None  \n",
       "2          H  NotFound  \n",
       "3          C      None  \n",
       "4          W      None  \n",
       "\n",
       "[5 rows x 412 columns]"
      ]
     },
     "execution_count": 73,
     "metadata": {},
     "output_type": "execute_result"
    }
   ],
   "source": [
    "df_valid = pd.read_csv('data/df_valid.csv')\n",
    "df_valid.head()\n"
   ]
  },
  {
   "cell_type": "code",
   "execution_count": 88,
   "metadata": {},
   "outputs": [],
   "source": [
    "X_valid = df_valid.drop(['isFraud'], axis=1)\n",
    "y_valid = df_valid.isFraud"
   ]
  },
  {
   "cell_type": "code",
   "execution_count": 90,
   "metadata": {},
   "outputs": [],
   "source": [
    "y_true = y_valid\n",
    "y_pred_proba = model.predict(preprocess.transform(X_valid))\n",
    "y_pred_proba = pd.DataFrame(y_pred_proba).loc[:, 1]"
   ]
  },
  {
   "cell_type": "code",
   "execution_count": 91,
   "metadata": {},
   "outputs": [],
   "source": [
    "y_pred = y_pred_proba.apply(lambda x: np.round(x))"
   ]
  },
  {
   "cell_type": "code",
   "execution_count": 92,
   "metadata": {},
   "outputs": [
    {
     "name": "stdout",
     "output_type": "stream",
     "text": [
      "Summary Stats\n",
      "Precision = 0.22241475684740078\n",
      "Recall = 0.9433380749170223\n",
      "F1 Score = 0.3599601954043785\n"
     ]
    }
   ],
   "source": [
    "from sklearn.metrics import f1_score, precision_score, recall_score\n",
    "\n",
    "precision = precision_score(y_true, y_pred)\n",
    "recall = recall_score(y_true, y_pred)\n",
    "f1Score = f1_score(y_true, y_pred)\n",
    "\n",
    "      \n",
    "print(\"Summary Stats\")\n",
    "print(\"Precision = %s\" % precision)\n",
    "print(\"Recall = %s\" % recall)\n",
    "print(\"F1 Score = %s\" % f1Score)"
   ]
  },
  {
   "cell_type": "code",
   "execution_count": 93,
   "metadata": {},
   "outputs": [],
   "source": [
    "from sklearn.metrics import confusion_matrix\n",
    "\n",
    "def plot_confusion_matrix(y_true, y_pred, classes, title, Norm,\n",
    "                          cmap=plt.cm.Blues):\n",
    "    \"\"\"\n",
    "    This function prints and plots the confusion matrix.\n",
    "    Normalization can be applied by setting `normalize=True`.\n",
    "    \"\"\"\n",
    "\n",
    "    # Compute confusion matrix \n",
    "    cm = confusion_matrix(y_true, y_pred)\n",
    "    # Only use the labels that appear in the data\n",
    "    if Norm == True:\n",
    "        cm = cm.astype('float') / cm.sum(axis=1)[:, np.newaxis]\n",
    "\n",
    "    fig, ax = plt.subplots()\n",
    "    im = ax.imshow(cm, interpolation='nearest', cmap=cmap)\n",
    "    ax.figure.colorbar(im, ax=ax)\n",
    "    # We want to show all ticks...\n",
    "    ax.set(xticks=np.arange(cm.shape[1]),\n",
    "           yticks=np.arange(cm.shape[0]),\n",
    "           # ... and label them with the respective list entries\n",
    "           xticklabels=classes, yticklabels=classes,\n",
    "           title=title,\n",
    "           ylabel='True label',\n",
    "           xlabel='Predicted label')\n",
    "\n",
    "    # Rotate the tick labels and set their alignment.\n",
    "    plt.setp(ax.get_xticklabels(), rotation=45, ha=\"right\",\n",
    "             rotation_mode=\"anchor\")\n",
    "\n",
    "    # Loop over data dimensions and create text annotations.\n",
    "    fmt = '.2f'\n",
    "    thresh = cm.max() / 2.\n",
    "    for i in range(cm.shape[0]):\n",
    "        for j in range(cm.shape[1]):\n",
    "            ax.text(j, i, format(cm[i, j], fmt),\n",
    "                    ha=\"center\", va=\"center\",\n",
    "                    color=\"white\" if cm[i, j] > thresh else \"black\")\n",
    "    fig.tight_layout()\n",
    "    return ax"
   ]
  },
  {
   "cell_type": "code",
   "execution_count": 94,
   "metadata": {},
   "outputs": [
    {
     "data": {
      "text/plain": [
       "<matplotlib.axes._subplots.AxesSubplot at 0x7fbec1d66390>"
      ]
     },
     "execution_count": 94,
     "metadata": {},
     "output_type": "execute_result"
    },
    {
     "data": {
      "image/png": "[encoded data removed]",
      "text/plain": [
       "<Figure size 432x288 with 2 Axes>"
      ]
     },
     "metadata": {},
     "output_type": "display_data"
    }
   ],
   "source": [
    "np.set_printoptions(precision=2)\n",
    "class_names = ['not Fraud', 'Fraud']\n",
    "plot_confusion_matrix(y_true, y_pred, classes=class_names, Norm=False,\n",
    "                      title='Normalized confusion matrix')"
   ]
  },
  {
   "cell_type": "code",
   "execution_count": 95,
   "metadata": {},
   "outputs": [
    {
     "data": {
      "text/plain": [
       "<matplotlib.axes._subplots.AxesSubplot at 0x7fbec1cadc18>"
      ]
     },
     "execution_count": 95,
     "metadata": {},
     "output_type": "execute_result"
    },
    {
     "data": {
      "image/png": "[encoded data removed]",
      "text/plain": [
       "<Figure size 432x288 with 2 Axes>"
      ]
     },
     "metadata": {},
     "output_type": "display_data"
    }
   ],
   "source": [
    "np.set_printoptions(precision=2)\n",
    "class_names = ['not Fraud', 'Fraud']\n",
    "plot_confusion_matrix(y_true, y_pred, classes=class_names, Norm=True,\n",
    "                      title='Normalized confusion matrix')"
   ]
  },
  {
   "cell_type": "code",
   "execution_count": 96,
   "metadata": {},
   "outputs": [],
   "source": [
    "from sklearn.metrics import roc_curve, auc"
   ]
  },
  {
   "cell_type": "code",
   "execution_count": 97,
   "metadata": {},
   "outputs": [],
   "source": [
    "fpr, tpr, _ = roc_curve(y_true, y_pred_proba)"
   ]
  },
  {
   "cell_type": "code",
   "execution_count": 98,
   "metadata": {},
   "outputs": [
    {
     "data": {
      "text/plain": [
       "[<matplotlib.lines.Line2D at 0x7fbec1b880f0>]"
      ]
     },
     "execution_count": 98,
     "metadata": {},
     "output_type": "execute_result"
    },
    {
     "data": {
      "image/png": "[encoded data removed]",
      "text/plain": [
       "<Figure size 432x288 with 1 Axes>"
      ]
     },
     "metadata": {},
     "output_type": "display_data"
    }
   ],
   "source": [
    "plt.plot(fpr, tpr)"
   ]
  },
  {
   "cell_type": "code",
   "execution_count": 100,
   "metadata": {},
   "outputs": [
    {
     "data": {
      "text/plain": [
       "0.96483405821828"
      ]
     },
     "execution_count": 100,
     "metadata": {},
     "output_type": "execute_result"
    }
   ],
   "source": [
    "auc(fpr, tpr)"
   ]
  },
  {
   "cell_type": "markdown",
   "metadata": {},
   "source": [
    "## Test Prediction"
   ]
  },
  {
   "cell_type": "code",
   "execution_count": 113,
   "metadata": {},
   "outputs": [
    {
     "data": {
      "text/plain": [
       "(506691, 412)"
      ]
     },
     "execution_count": 113,
     "metadata": {},
     "output_type": "execute_result"
    }
   ],
   "source": [
    "df_test = pd.read_csv('data/df_test.csv')\n",
    "df_test.shape"
   ]
  },
  {
   "cell_type": "code",
   "execution_count": 114,
   "metadata": {
    "scrolled": true
   },
   "outputs": [],
   "source": [
    "X_test = df_test.drop(['TransactionID'], axis=1)"
   ]
  },
  {
   "cell_type": "code",
   "execution_count": 115,
   "metadata": {},
   "outputs": [],
   "source": [
    "y_pred_proba = model.predict(preprocess.transform(X_test))\n",
    "y_pred_proba = pd.DataFrame(y_pred_proba).loc[:, 1]"
   ]
  },
  {
   "cell_type": "code",
   "execution_count": 116,
   "metadata": {},
   "outputs": [],
   "source": [
    "df_preds = pd.DataFrame(df_test.TransactionID)\n",
    "df_preds = pd.concat([df_preds, y_pred_proba], axis=1)"
   ]
  },
  {
   "cell_type": "code",
   "execution_count": 117,
   "metadata": {},
   "outputs": [
    {
     "data": {
      "text/plain": [
       "(506691, 2)"
      ]
     },
     "execution_count": 117,
     "metadata": {},
     "output_type": "execute_result"
    }
   ],
   "source": [
    "df_preds.columns = ['TransactionID', 'isFraud']\n",
    "df_preds.shape"
   ]
  },
  {
   "cell_type": "code",
   "execution_count": 118,
   "metadata": {},
   "outputs": [
    {
     "data": {
      "text/html": [
       "<div>\n",
       "<style scoped>\n",
       "    .dataframe tbody tr th:only-of-type {\n",
       "        vertical-align: middle;\n",
       "    }\n",
       "\n",
       "    .dataframe tbody tr th {\n",
       "        vertical-align: top;\n",
       "    }\n",
       "\n",
       "    .dataframe thead th {\n",
       "        text-align: right;\n",
       "    }\n",
       "</style>\n",
       "<table border=\"1\" class=\"dataframe\">\n",
       "  <thead>\n",
       "    <tr style=\"text-align: right;\">\n",
       "      <th></th>\n",
       "      <th>TransactionID</th>\n",
       "      <th>isFraud</th>\n",
       "    </tr>\n",
       "  </thead>\n",
       "  <tbody>\n",
       "    <tr>\n",
       "      <th>0</th>\n",
       "      <td>3664355.0</td>\n",
       "      <td>3.105767e-11</td>\n",
       "    </tr>\n",
       "    <tr>\n",
       "      <th>1</th>\n",
       "      <td>3664418.0</td>\n",
       "      <td>7.151639e-09</td>\n",
       "    </tr>\n",
       "    <tr>\n",
       "      <th>2</th>\n",
       "      <td>3664423.0</td>\n",
       "      <td>1.143229e-04</td>\n",
       "    </tr>\n",
       "    <tr>\n",
       "      <th>3</th>\n",
       "      <td>3664469.0</td>\n",
       "      <td>3.889354e-04</td>\n",
       "    </tr>\n",
       "    <tr>\n",
       "      <th>4</th>\n",
       "      <td>3665115.0</td>\n",
       "      <td>7.504455e-05</td>\n",
       "    </tr>\n",
       "  </tbody>\n",
       "</table>\n",
       "</div>"
      ],
      "text/plain": [
       "   TransactionID       isFraud\n",
       "0      3664355.0  3.105767e-11\n",
       "1      3664418.0  7.151639e-09\n",
       "2      3664423.0  1.143229e-04\n",
       "3      3664469.0  3.889354e-04\n",
       "4      3665115.0  7.504455e-05"
      ]
     },
     "execution_count": 118,
     "metadata": {},
     "output_type": "execute_result"
    }
   ],
   "source": [
    "df_preds.head()"
   ]
  },
  {
   "cell_type": "code",
   "execution_count": 120,
   "metadata": {},
   "outputs": [],
   "source": [
    "df_preds.to_csv('predicted.csv', index=False)"
   ]
  },
  {
   "cell_type": "code",
   "execution_count": null,
   "metadata": {},
   "outputs": [],
   "source": []
  }
 ],
 "metadata": {
  "kernelspec": {
   "display_name": "Python 3",
   "language": "python",
   "name": "python3"
  },
  "language_info": {
   "codemirror_mode": {
    "name": "ipython",
    "version": 3
   },
   "file_extension": ".py",
   "mimetype": "text/x-python",
   "name": "python",
   "nbconvert_exporter": "python",
   "pygments_lexer": "ipython3",
   "version": "3.6.5"
  }
 },
 "nbformat": 4,
 "nbformat_minor": 1
}
