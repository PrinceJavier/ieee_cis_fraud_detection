{
    "nbformat_minor": 1, 
    "cells": [
        {
            "execution_count": 1, 
            "cell_type": "code", 
            "metadata": {}, 
            "outputs": [
                {
                    "output_type": "stream", 
                    "name": "stdout", 
                    "text": "Waiting for a Spark session to start...\nSpark Initialization Done! ApplicationId = app-20191001123148-0000\nKERNEL_ID = fb1deef0-f6d7-4cfa-a1e9-54a3df6550bc\n"
                }
            ], 
            "source": "# The code was removed by Watson Studio for sharing."
        }, 
        {
            "source": "# IEEE CIS Fraud Detection - ETL", 
            "cell_type": "markdown", 
            "metadata": {
                "collapsed": true
            }
        }, 
        {
            "execution_count": 2, 
            "cell_type": "code", 
            "metadata": {
                "scrolled": true
            }, 
            "outputs": [
                {
                    "output_type": "stream", 
                    "name": "stdout", 
                    "text": "Pixiedust database opened successfully\nTable VERSION_TRACKER created successfully\nTable METRICS_TRACKER created successfully\n\nShare anonymous install statistics? (opt-out instructions)\n\nPixieDust will record metadata on its environment the next time the package is installed or updated. The data is anonymized and aggregated to help plan for future releases, and records only the following values:\n\n{\n   \"data_sent\": currentDate,\n   \"runtime\": \"python\",\n   \"application_version\": currentPixiedustVersion,\n   \"space_id\": nonIdentifyingUniqueId,\n   \"config\": {\n       \"repository_id\": \"https://github.com/ibm-watson-data-lab/pixiedust\",\n       \"target_runtimes\": [\"Data Science Experience\"],\n       \"event_id\": \"web\",\n       \"event_organizer\": \"dev-journeys\"\n   }\n}\nYou can opt out by calling pixiedust.optOut() in a new cell.\n"
                }, 
                {
                    "output_type": "display_data", 
                    "data": {
                        "text/html": "\n        <div style=\"margin:10px\">\n            <a href=\"https://github.com/ibm-watson-data-lab/pixiedust\" target=\"_new\">\n                <img src=\"https://github.com/ibm-watson-data-lab/pixiedust/raw/master/docs/_static/pd_icon32.png\" style=\"float:left;margin-right:10px\"/>\n            </a>\n            <span>Pixiedust version 1.1.16</span>\n        </div>\n        ", 
                        "text/plain": "<IPython.core.display.HTML object>"
                    }, 
                    "metadata": {}
                }, 
                {
                    "output_type": "stream", 
                    "name": "stdout", 
                    "text": "\u001b[31mPixiedust runtime updated. Please restart kernel\u001b[0m\nTable SPARK_PACKAGES created successfully\nTable USER_PREFERENCES created successfully\nTable service_connections created successfully\n"
                }, 
                {
                    "output_type": "display_data", 
                    "data": {
                        "text/html": "<div>Warning: You are not running the latest version of PixieDust. Current is 1.1.16, Latest is 1.1.17</div>", 
                        "text/plain": "<IPython.core.display.HTML object>"
                    }, 
                    "metadata": {}
                }, 
                {
                    "output_type": "display_data", 
                    "data": {
                        "text/html": "\n                <div>Please copy and run the following command in a new cell to upgrade: <span style=\"background-color:#ececec;font-family:monospace;padding:0 5px\">!pip install --user --upgrade pixiedust</span></div>\n            ", 
                        "text/plain": "<IPython.core.display.HTML object>"
                    }, 
                    "metadata": {}
                }, 
                {
                    "output_type": "display_data", 
                    "data": {
                        "text/html": "<div>Please restart kernel after upgrading.</div>", 
                        "text/plain": "<IPython.core.display.HTML object>"
                    }, 
                    "metadata": {}
                }
            ], 
            "source": "import numpy as np\nimport matplotlib.pyplot as plt\nimport pandas as pd\n\nfrom pixiedust.display import *"
        }, 
        {
            "execution_count": 4, 
            "cell_type": "code", 
            "metadata": {}, 
            "outputs": [], 
            "source": "# The code was removed by Watson Studio for sharing."
        }, 
        {
            "source": "## Test Set", 
            "cell_type": "markdown", 
            "metadata": {}
        }, 
        {
            "execution_count": 5, 
            "cell_type": "code", 
            "metadata": {}, 
            "outputs": [], 
            "source": "test_identity = spark.read\\\n  .format('org.apache.spark.sql.execution.datasources.csv.CSVFileFormat')\\\n  .option('header', 'true')\\\n  .load(cos.url('test_identity.csv', 'default-donotdelete-pr-l16zufkrkht8vm'))"
        }, 
        {
            "execution_count": 6, 
            "cell_type": "code", 
            "metadata": {}, 
            "outputs": [], 
            "source": "test_transaction = spark.read\\\n  .format('org.apache.spark.sql.execution.datasources.csv.CSVFileFormat')\\\n  .option('header', 'true')\\\n  .load(cos.url('test_transaction.csv', 'default-donotdelete-pr-l16zufkrkht8vm'))"
        }, 
        {
            "execution_count": 7, 
            "cell_type": "code", 
            "metadata": {}, 
            "outputs": [], 
            "source": "test_identity.createOrReplaceTempView(\"test_identity\")\ntest_transaction.createOrReplaceTempView(\"test_transaction\")"
        }, 
        {
            "source": "### Joining Transaction and Identity", 
            "cell_type": "markdown", 
            "metadata": {}
        }, 
        {
            "execution_count": 8, 
            "cell_type": "code", 
            "metadata": {}, 
            "outputs": [
                {
                    "execution_count": 8, 
                    "metadata": {}, 
                    "data": {
                        "text/plain": "', b.id_01, b.id_02, b.id_03, b.id_04, b.id_05, b.id_06, b.id_07, b.id_08, b.id_09, b.id_10, b.id_11, b.id_12, b.id_13, b.id_14, b.id_15, b.id_16, b.id_17, b.id_18, b.id_19, b.id_20, b.id_21, b.id_22, b.id_23, b.id_24, b.id_25, b.id_26, b.id_27, b.id_28, b.id_29, b.id_30, b.id_31, b.id_32, b.id_33, b.id_34, b.id_35, b.id_36, b.id_37, b.id_38, b.DeviceType, b.DeviceInfo'"
                    }, 
                    "output_type": "execute_result"
                }
            ], 
            "source": "columns = test_identity.columns[1:]\nqueryCols = ''\nfor col in columns:\n    queryCols += ', b.'+col\nqueryCols"
        }, 
        {
            "execution_count": 9, 
            "cell_type": "code", 
            "metadata": {}, 
            "outputs": [], 
            "source": "query = f\"\"\"\nSELECT \n    a.* {queryCols} \n    FROM test_transaction a\n    LEFT JOIN test_identity b\n    ON a.transactionID = b.transactionID\n\"\"\"\n\ntransaction_identity = sql(query)\ntransaction_identity.createOrReplaceTempView(\"transaction_identity\")"
        }, 
        {
            "execution_count": 10, 
            "cell_type": "code", 
            "metadata": {}, 
            "outputs": [
                {
                    "execution_count": 10, 
                    "metadata": {}, 
                    "data": {
                        "text/plain": "141907"
                    }, 
                    "output_type": "execute_result"
                }
            ], 
            "source": "test_identity.count()"
        }, 
        {
            "execution_count": 12, 
            "cell_type": "code", 
            "metadata": {}, 
            "outputs": [
                {
                    "execution_count": 12, 
                    "metadata": {}, 
                    "data": {
                        "text/plain": "506691"
                    }, 
                    "output_type": "execute_result"
                }
            ], 
            "source": "test_transaction.count()"
        }, 
        {
            "execution_count": 13, 
            "cell_type": "code", 
            "metadata": {}, 
            "outputs": [
                {
                    "execution_count": 13, 
                    "metadata": {}, 
                    "data": {
                        "text/plain": "506691"
                    }, 
                    "output_type": "execute_result"
                }
            ], 
            "source": "transaction_identity.count()"
        }, 
        {
            "execution_count": null, 
            "cell_type": "code", 
            "metadata": {
                "pixiedust": {
                    "displayParams": {
                        "rowCount": "3", 
                        "handlerId": "tableView", 
                        "table_nosearch": "true", 
                        "table_noschema": "true"
                    }
                }
            }, 
            "outputs": [
                {
                    "output_type": "display_data", 
                    "data": {
                        "text/html": "<div class=\"pixiedust\" pixiedust=\"{&quot;prefix&quot;: &quot;6d7ce85b&quot;, &quot;command&quot;: &quot;display(transaction_identity,cell_id=&apos;159e5938c2c646c78680e197191d5c0d&apos;,nostore_pixiedust=&apos;true&apos;,handlerId=&apos;tableView&apos;,rowCount=&apos;3&apos;,table_noschema=&apos;true&apos;,table_nosearch=&apos;true&apos;,nostore_cw=&apos;1208&apos;,nostore_vh=&apos;575&apos;,org_params=&apos;nostore_pixiedust&apos;,nostore_bokeh=&apos;false&apos;)&quot;, &quot;entity&quot;: &quot;transaction_identity&quot;, &quot;options&quot;: {&quot;cell_id&quot;: &quot;159e5938c2c646c78680e197191d5c0d&quot;, &quot;nostore_pixiedust&quot;: &quot;true&quot;, &quot;handlerId&quot;: &quot;tableView&quot;, &quot;rowCount&quot;: &quot;3&quot;, &quot;table_noschema&quot;: &quot;true&quot;, &quot;table_nosearch&quot;: &quot;true&quot;, &quot;nostore_cw&quot;: &quot;1208&quot;, &quot;nostore_vh&quot;: &quot;575&quot;, &quot;org_params&quot;: &quot;nostore_pixiedust&quot;, &quot;nostore_bokeh&quot;: &quot;false&quot;}, &quot;sniffers&quot;: [&quot;{&apos;nostore_bokeh&apos;:!!window.Bokeh}&quot;], &quot;avoidMetadata&quot;: false, &quot;include_keys&quot;: [&quot;filter&quot;]}\">\n  \n  <button class=\"btn btn-default btn-sm expandButton\" data-toggle=\"collapse\"\n          data-target=\"#pixiedust-output-wrapper-6d7ce85b\" title=\"Expand/Collapse Pixiedust output\">\n    <i class=\"fa\"></i>\n  </button>\n  \n  \n  <div id=\"pixiedust-output-wrapper-6d7ce85b\" class=\"pixiedust-output-wrapper collapse in\">\n    \n      <div class=\"pixiedust-toolbar btn-group\" role=\"group\" style=\"margin-bottom:15px\">  \n      \n        \n          <a class=\"btn btn-small btn-default display-type-button\" id=\"menu6d7ce85b-tableView\" title=\"Table.Next\">\n            <i class=\"fa fa-table\"></i>\n          </a>\n          \n            <script>\n                $('#menu6d7ce85b-tableView').on('click', \n            \n            function(){\n                pixiedust.executeDisplay(\n                    {\"prefix\": \"6d7ce85b\", \"command\": \"display(transaction_identity,cell_id='159e5938c2c646c78680e197191d5c0d',nostore_pixiedust='true',handlerId='tableView',rowCount='3',table_noschema='true',table_nosearch='true',nostore_cw='1208',nostore_vh='575',org_params='nostore_pixiedust',nostore_bokeh='false',prefix='6d7ce85b')\", \"entity\": \"transaction_identity\", \"options\": {\"cell_id\": \"159e5938c2c646c78680e197191d5c0d\", \"nostore_pixiedust\": \"true\", \"handlerId\": \"tableView\", \"rowCount\": \"3\", \"table_noschema\": \"true\", \"table_nosearch\": \"true\", \"nostore_cw\": \"1208\", \"nostore_vh\": \"575\", \"org_params\": \"nostore_pixiedust\", \"nostore_bokeh\": \"false\", \"prefix\": \"6d7ce85b\"}, \"sniffers\": [\"{'nostore_bokeh':!!window.Bokeh}\"], \"avoidMetadata\": true, \"include_keys\": [\"filter\"]},\n                    {'targetDivId': 'wrapperHTML6d7ce85b' }\n                );\n            }\n            )\n            </script>\n        \n        \n      \n        \n          <div class=\"btn-group btn-small display-type-button\">\n            \n            <a class=\"btn btn-small dropdown-toggle btn-default\" data-toggle=\"dropdown\" title=\"Chart\">\n              \n              <i class=\"fa fa-line-chart\"></i>\n              \n              <i class=\"fa fa-chevron-down\"></i>\n            </a>\n            <div class=\"dropdown-menu\" role=\"menu\" style=\"white-space:nowrap\">\n              <ul>\n              \n                <li id=\"menu6d7ce85b-barChart\">\n                  \n                  <i class=\"fa fa-bar-chart\"></i>\n                  \n                  <span>Bar Chart</span>\n                  \n            <script>\n                $('#menu6d7ce85b-barChart').on('click', \n            \n            function(){\n                pixiedust.executeDisplay(\n                    {\"prefix\": \"6d7ce85b\", \"command\": \"display(transaction_identity,cell_id='159e5938c2c646c78680e197191d5c0d',nostore_pixiedust='true',handlerId='barChart',rowCount='3',table_noschema='true',table_nosearch='true',nostore_cw='1208',nostore_vh='575',org_params='nostore_pixiedust',nostore_bokeh='false',prefix='6d7ce85b')\", \"entity\": \"transaction_identity\", \"options\": {\"cell_id\": \"159e5938c2c646c78680e197191d5c0d\", \"nostore_pixiedust\": \"true\", \"handlerId\": \"barChart\", \"rowCount\": \"3\", \"table_noschema\": \"true\", \"table_nosearch\": \"true\", \"nostore_cw\": \"1208\", \"nostore_vh\": \"575\", \"org_params\": \"nostore_pixiedust\", \"nostore_bokeh\": \"false\", \"prefix\": \"6d7ce85b\"}, \"sniffers\": [\"{'nostore_bokeh':!!window.Bokeh}\"], \"avoidMetadata\": true, \"include_keys\": [\"filter\"]},\n                    {'targetDivId': 'wrapperHTML6d7ce85b' }\n                );\n            }\n            )\n            </script>\n        \n                </li>\n              \n                <li id=\"menu6d7ce85b-lineChart\">\n                  \n                  <i class=\"fa fa-line-chart\"></i>\n                  \n                  <span>Line Chart</span>\n                  \n            <script>\n                $('#menu6d7ce85b-lineChart').on('click', \n            \n            function(){\n                pixiedust.executeDisplay(\n                    {\"prefix\": \"6d7ce85b\", \"command\": \"display(transaction_identity,cell_id='159e5938c2c646c78680e197191d5c0d',nostore_pixiedust='true',handlerId='lineChart',rowCount='3',table_noschema='true',table_nosearch='true',nostore_cw='1208',nostore_vh='575',org_params='nostore_pixiedust',nostore_bokeh='false',prefix='6d7ce85b')\", \"entity\": \"transaction_identity\", \"options\": {\"cell_id\": \"159e5938c2c646c78680e197191d5c0d\", \"nostore_pixiedust\": \"true\", \"handlerId\": \"lineChart\", \"rowCount\": \"3\", \"table_noschema\": \"true\", \"table_nosearch\": \"true\", \"nostore_cw\": \"1208\", \"nostore_vh\": \"575\", \"org_params\": \"nostore_pixiedust\", \"nostore_bokeh\": \"false\", \"prefix\": \"6d7ce85b\"}, \"sniffers\": [\"{'nostore_bokeh':!!window.Bokeh}\"], \"avoidMetadata\": true, \"include_keys\": [\"filter\"]},\n                    {'targetDivId': 'wrapperHTML6d7ce85b' }\n                );\n            }\n            )\n            </script>\n        \n                </li>\n              \n                <li id=\"menu6d7ce85b-scatterPlot\">\n                  \n                  <i class=\"fa fa-circle\"></i>\n                  \n                  <span>Scatter Plot</span>\n                  \n            <script>\n                $('#menu6d7ce85b-scatterPlot').on('click', \n            \n            function(){\n                pixiedust.executeDisplay(\n                    {\"prefix\": \"6d7ce85b\", \"command\": \"display(transaction_identity,cell_id='159e5938c2c646c78680e197191d5c0d',nostore_pixiedust='true',handlerId='scatterPlot',rowCount='3',table_noschema='true',table_nosearch='true',nostore_cw='1208',nostore_vh='575',org_params='nostore_pixiedust',nostore_bokeh='false',prefix='6d7ce85b')\", \"entity\": \"transaction_identity\", \"options\": {\"cell_id\": \"159e5938c2c646c78680e197191d5c0d\", \"nostore_pixiedust\": \"true\", \"handlerId\": \"scatterPlot\", \"rowCount\": \"3\", \"table_noschema\": \"true\", \"table_nosearch\": \"true\", \"nostore_cw\": \"1208\", \"nostore_vh\": \"575\", \"org_params\": \"nostore_pixiedust\", \"nostore_bokeh\": \"false\", \"prefix\": \"6d7ce85b\"}, \"sniffers\": [\"{'nostore_bokeh':!!window.Bokeh}\"], \"avoidMetadata\": true, \"include_keys\": [\"filter\"]},\n                    {'targetDivId': 'wrapperHTML6d7ce85b' }\n                );\n            }\n            )\n            </script>\n        \n                </li>\n              \n                <li id=\"menu6d7ce85b-pieChart\">\n                  \n                  <i class=\"fa fa-pie-chart\"></i>\n                  \n                  <span>Pie Chart</span>\n                  \n            <script>\n                $('#menu6d7ce85b-pieChart').on('click', \n            \n            function(){\n                pixiedust.executeDisplay(\n                    {\"prefix\": \"6d7ce85b\", \"command\": \"display(transaction_identity,cell_id='159e5938c2c646c78680e197191d5c0d',nostore_pixiedust='true',handlerId='pieChart',rowCount='3',table_noschema='true',table_nosearch='true',nostore_cw='1208',nostore_vh='575',org_params='nostore_pixiedust',nostore_bokeh='false',prefix='6d7ce85b')\", \"entity\": \"transaction_identity\", \"options\": {\"cell_id\": \"159e5938c2c646c78680e197191d5c0d\", \"nostore_pixiedust\": \"true\", \"handlerId\": \"pieChart\", \"rowCount\": \"3\", \"table_noschema\": \"true\", \"table_nosearch\": \"true\", \"nostore_cw\": \"1208\", \"nostore_vh\": \"575\", \"org_params\": \"nostore_pixiedust\", \"nostore_bokeh\": \"false\", \"prefix\": \"6d7ce85b\"}, \"sniffers\": [\"{'nostore_bokeh':!!window.Bokeh}\"], \"avoidMetadata\": true, \"include_keys\": [\"filter\"]},\n                    {'targetDivId': 'wrapperHTML6d7ce85b' }\n                );\n            }\n            )\n            </script>\n        \n                </li>\n              \n                <li id=\"menu6d7ce85b-mapView\">\n                  \n                  <i class=\"fa fa-globe\"></i>\n                  \n                  <span>Map</span>\n                  \n            <script>\n                $('#menu6d7ce85b-mapView').on('click', \n            \n            function(){\n                pixiedust.executeDisplay(\n                    {\"prefix\": \"6d7ce85b\", \"command\": \"display(transaction_identity,cell_id='159e5938c2c646c78680e197191d5c0d',nostore_pixiedust='true',handlerId='mapView',rowCount='3',table_noschema='true',table_nosearch='true',nostore_cw='1208',nostore_vh='575',org_params='nostore_pixiedust',nostore_bokeh='false',prefix='6d7ce85b')\", \"entity\": \"transaction_identity\", \"options\": {\"cell_id\": \"159e5938c2c646c78680e197191d5c0d\", \"nostore_pixiedust\": \"true\", \"handlerId\": \"mapView\", \"rowCount\": \"3\", \"table_noschema\": \"true\", \"table_nosearch\": \"true\", \"nostore_cw\": \"1208\", \"nostore_vh\": \"575\", \"org_params\": \"nostore_pixiedust\", \"nostore_bokeh\": \"false\", \"prefix\": \"6d7ce85b\"}, \"sniffers\": [\"{'nostore_bokeh':!!window.Bokeh}\"], \"avoidMetadata\": true, \"include_keys\": [\"filter\"]},\n                    {'targetDivId': 'wrapperHTML6d7ce85b' }\n                );\n            }\n            )\n            </script>\n        \n                </li>\n              \n                <li id=\"menu6d7ce85b-histogram\">\n                  \n                  <i class=\"fa fa-area-chart\"></i>\n                  \n                  <span>Histogram</span>\n                  \n            <script>\n                $('#menu6d7ce85b-histogram').on('click', \n            \n            function(){\n                pixiedust.executeDisplay(\n                    {\"prefix\": \"6d7ce85b\", \"command\": \"display(transaction_identity,cell_id='159e5938c2c646c78680e197191d5c0d',nostore_pixiedust='true',handlerId='histogram',rowCount='3',table_noschema='true',table_nosearch='true',nostore_cw='1208',nostore_vh='575',org_params='nostore_pixiedust',nostore_bokeh='false',prefix='6d7ce85b')\", \"entity\": \"transaction_identity\", \"options\": {\"cell_id\": \"159e5938c2c646c78680e197191d5c0d\", \"nostore_pixiedust\": \"true\", \"handlerId\": \"histogram\", \"rowCount\": \"3\", \"table_noschema\": \"true\", \"table_nosearch\": \"true\", \"nostore_cw\": \"1208\", \"nostore_vh\": \"575\", \"org_params\": \"nostore_pixiedust\", \"nostore_bokeh\": \"false\", \"prefix\": \"6d7ce85b\"}, \"sniffers\": [\"{'nostore_bokeh':!!window.Bokeh}\"], \"avoidMetadata\": true, \"include_keys\": [\"filter\"]},\n                    {'targetDivId': 'wrapperHTML6d7ce85b' }\n                );\n            }\n            )\n            </script>\n        \n                </li>\n              \n              </ul>\n            </div>\n          </div>\n        \n      \n        \n      \n        \n      \n        \n          <div class=\"btn-group btn-small display-type-button\">\n            \n            <a class=\"btn btn-small dropdown-toggle btn-default\" data-toggle=\"dropdown\" title=\"Stash dataset\">\n              \n              <i class=\"fa fa-cloud-download\"></i>\n              \n              <i class=\"fa fa-chevron-down\"></i>\n            </a>\n            <div class=\"dropdown-menu\" role=\"menu\" style=\"white-space:nowrap\">\n              <ul>\n              \n                <li id=\"menu6d7ce85b-downloadFile\">\n                  \n                  <i class=\"fa fa-download\"></i>\n                  \n                  <span>Download as File</span>\n                  \n            <script>\n                $('#menu6d7ce85b-downloadFile').on('click', \n            \n            function(){\n                pixiedust.executeDisplay(\n                    {\"prefix\": \"6d7ce85b\", \"command\": \"display(transaction_identity,cell_id='159e5938c2c646c78680e197191d5c0d',nostore_pixiedust='true',handlerId='downloadFile',rowCount='3',table_noschema='true',table_nosearch='true',nostore_cw='1208',nostore_vh='575',org_params='nostore_pixiedust',nostore_bokeh='false',prefix='6d7ce85b')\", \"entity\": \"transaction_identity\", \"options\": {\"cell_id\": \"159e5938c2c646c78680e197191d5c0d\", \"nostore_pixiedust\": \"true\", \"handlerId\": \"downloadFile\", \"rowCount\": \"3\", \"table_noschema\": \"true\", \"table_nosearch\": \"true\", \"nostore_cw\": \"1208\", \"nostore_vh\": \"575\", \"org_params\": \"nostore_pixiedust\", \"nostore_bokeh\": \"false\", \"prefix\": \"6d7ce85b\"}, \"sniffers\": [\"{'nostore_bokeh':!!window.Bokeh}\"], \"avoidMetadata\": true, \"include_keys\": [\"filter\"]},\n                    {'targetDivId': 'wrapperHTML6d7ce85b' }\n                );\n            }\n            )\n            </script>\n        \n                </li>\n              \n                <li id=\"menu6d7ce85b-stashCloudant\">\n                  \n                  <i class=\"fa fa-cloud\"></i>\n                  \n                  <span>Stash to Cloudant</span>\n                  \n            <script>\n                $('#menu6d7ce85b-stashCloudant').on('click', \n            \n            function(){\n                pixiedust.executeDisplay(\n                    {\"prefix\": \"6d7ce85b\", \"command\": \"display(transaction_identity,cell_id='159e5938c2c646c78680e197191d5c0d',nostore_pixiedust='true',handlerId='stashCloudant',rowCount='3',table_noschema='true',table_nosearch='true',nostore_cw='1208',nostore_vh='575',org_params='nostore_pixiedust',nostore_bokeh='false',prefix='6d7ce85b')\", \"entity\": \"transaction_identity\", \"options\": {\"cell_id\": \"159e5938c2c646c78680e197191d5c0d\", \"nostore_pixiedust\": \"true\", \"handlerId\": \"stashCloudant\", \"rowCount\": \"3\", \"table_noschema\": \"true\", \"table_nosearch\": \"true\", \"nostore_cw\": \"1208\", \"nostore_vh\": \"575\", \"org_params\": \"nostore_pixiedust\", \"nostore_bokeh\": \"false\", \"prefix\": \"6d7ce85b\"}, \"sniffers\": [\"{'nostore_bokeh':!!window.Bokeh}\"], \"avoidMetadata\": true, \"include_keys\": [\"filter\"]},\n                    {'targetDivId': 'wrapperHTML6d7ce85b' }\n                );\n            }\n            )\n            </script>\n        \n                </li>\n              \n              </ul>\n            </div>\n          </div>\n        \n      \n        <a id=\"filterbutton6d7ce85b\" href=\"#filter6d7ce85b\" class=\"btn btn-small btn-default display-type-button\" data-toggle=\"collapse\" title=\"Filter\">\n          <i class=\"fa fa-filter\" aria-hidden=\"true\"></i>\n        </a>\n      </div>\n      <div id=\"filter6d7ce85b\" class=\"collapse no_loading_msg\" style=\"margin-bottom:15px;padding:10px 15px;border: 1px solid #eaeaea;background-color: #fafafa;\">\n        <div pd_render_onload pd_app=\"pixiedust.display.chart.filter.FilterApp\" class=\"no_loading_msg\">\n          <script>\n            $(document).trigger('pd_event', {type:\"pd_load\", targetNode: $(\"#filter6d7ce85b\")});\n          </script>\n        </div>\n      </div>\n    \n    <div id=\"wrapperJS6d7ce85b\"></div>\n    <div id=\"wrapperHTML6d7ce85b\" class=\"pixiedustWrapperHTML\" pd_init\n        pixiedust=\"{&quot;prefix&quot;: &quot;6d7ce85b&quot;, &quot;command&quot;: &quot;display(transaction_identity,cell_id=&apos;159e5938c2c646c78680e197191d5c0d&apos;,nostore_pixiedust=&apos;true&apos;,handlerId=&apos;tableView&apos;,rowCount=&apos;3&apos;,table_noschema=&apos;true&apos;,table_nosearch=&apos;true&apos;,nostore_cw=&apos;1208&apos;,nostore_vh=&apos;575&apos;,org_params=&apos;nostore_pixiedust&apos;,nostore_bokeh=&apos;false&apos;)&quot;, &quot;entity&quot;: &quot;transaction_identity&quot;, &quot;options&quot;: {&quot;cell_id&quot;: &quot;159e5938c2c646c78680e197191d5c0d&quot;, &quot;nostore_pixiedust&quot;: &quot;true&quot;, &quot;handlerId&quot;: &quot;tableView&quot;, &quot;rowCount&quot;: &quot;3&quot;, &quot;table_noschema&quot;: &quot;true&quot;, &quot;table_nosearch&quot;: &quot;true&quot;, &quot;nostore_cw&quot;: &quot;1208&quot;, &quot;nostore_vh&quot;: &quot;575&quot;, &quot;org_params&quot;: &quot;nostore_pixiedust&quot;, &quot;nostore_bokeh&quot;: &quot;false&quot;}, &quot;sniffers&quot;: [&quot;{&apos;nostore_bokeh&apos;:!!window.Bokeh}&quot;], &quot;avoidMetadata&quot;: false, &quot;include_keys&quot;: [&quot;filter&quot;]}\" style=\"min-height:100px\"></div>\n  </div>\n</div>\n                    <script>\n                    (\n            \n            function(){\n                pixiedust.executeDisplay(\n                    {\"prefix\": \"6d7ce85b\", \"command\": \"display(transaction_identity,cell_id='159e5938c2c646c78680e197191d5c0d',nostore_pixiedust='true',handlerId='tableView',rowCount='3',table_noschema='true',table_nosearch='true',nostore_cw='1208',nostore_vh='575',org_params='nostore_pixiedust',nostore_bokeh='false',prefix='6d7ce85b')\", \"entity\": \"transaction_identity\", \"options\": {\"cell_id\": \"159e5938c2c646c78680e197191d5c0d\", \"nostore_pixiedust\": \"true\", \"handlerId\": \"tableView\", \"rowCount\": \"3\", \"table_noschema\": \"true\", \"table_nosearch\": \"true\", \"nostore_cw\": \"1208\", \"nostore_vh\": \"575\", \"org_params\": \"nostore_pixiedust\", \"nostore_bokeh\": \"false\", \"prefix\": \"6d7ce85b\"}, \"sniffers\": [\"{'nostore_bokeh':!!window.Bokeh}\"], \"avoidMetadata\": true, \"include_keys\": [\"filter\"]},\n                    {'targetDivId': 'wrapperHTML6d7ce85b' }\n                );\n            }\n            )();\n                    </script>\n                </div>", 
                        "text/plain": "<IPython.core.display.HTML object>"
                    }, 
                    "metadata": {}
                }
            ], 
            "source": "display(transaction_identity)"
        }, 
        {
            "source": "Training Set", 
            "cell_type": "markdown", 
            "metadata": {}
        }, 
        {
            "execution_count": 11, 
            "cell_type": "code", 
            "metadata": {}, 
            "outputs": [], 
            "source": "# We have already ETLed the training set in data exploration\ndf_train = spark.read\\\n  .format('org.apache.spark.sql.execution.datasources.csv.CSVFileFormat')\\\n  .option('header', 'true')\\\n  .load(cos.url('transaction_id_train.csv', 'default-donotdelete-pr-l16zufkrkht8vm'))\n"
        }, 
        {
            "execution_count": 12, 
            "cell_type": "code", 
            "metadata": {}, 
            "outputs": [
                {
                    "execution_count": 12, 
                    "metadata": {}, 
                    "data": {
                        "text/plain": "590540"
                    }, 
                    "output_type": "execute_result"
                }
            ], 
            "source": "df_train.count()"
        }, 
        {
            "execution_count": 13, 
            "cell_type": "code", 
            "metadata": {}, 
            "outputs": [], 
            "source": "# select only columns in both training and test\ncol_train = df_train.columns"
        }, 
        {
            "execution_count": 14, 
            "cell_type": "code", 
            "metadata": {}, 
            "outputs": [
                {
                    "execution_count": 14, 
                    "metadata": {}, 
                    "data": {
                        "text/plain": "'D13, D14, D12, id_04, id_03, D6, D9, D8, id_09, id_10, id_32, id_14, V153, V161, V162, V163, V138, V157, V156, V155, V154, V139, V149, V158, V147, V146, V142, V141, V140, V148, V152, V151, V150, V145, V144, V143, V159, V160, V165, V164, V166, V322, V332, V339, V338, V337, V336, V335, V334, V333, V331, V323, V329, V328, V327, V326, V325, V324, V330, id_13, V231, V252, V244, V246, V247, V248, V249, V253, V242, V254, V257, V258, V218, V261, V262, V263, V243, V241, V265, V240, V237, V236, V235, V233, V232, V230, V229, V228, V226, V225, V224, V223, V217, V264, V260, V266, V273, V267, V278, V277, V276, V275, V274, V219, V268, V269, id_05, id_06, id_20, id_19, id_17, V177, V213, V179, V178, V176, V214, V173, V172, V168, V215, V216, V167, V212, V202, V181, V203, V211, V207, V183, V186, V187, V206, V191, V196, V205, V204, V193, V199, V192, V182, V190, V188, V174, V184, V189, V180, V194, V195, V197, V198, V200, V201, V175, V185, V170, V208, V209, V210, V169, V171, id_02, id_11, V220, V239, V234, V222, V227, V272, V271, V270, V259, V256, V255, V251, V250, V245, V221, V238, id_01, dist1, D5, D2, D11, V11, V6, V2, V10, V9, V8, V7, V5, V1, V4, V3, D3, V43, V50, V49, V48, V47, V46, V45, V44, V39, V42, V40, V35, V36, V52, V37, V38, V41, V51, D4, V85, V93, V92, V91, V90, V89, V88, V87, V86, V84, V83, V81, V80, V79, V78, V77, V76, V75, V94, V82, D15, V74, V72, V70, V69, V68, V67, V66, V65, V64, V63, V62, V61, V60, V59, V58, V57, V56, V55, V54, V53, V73, V71, V18, V22, V34, V31, V32, V17, V28, V27, V26, V25, V24, V23, V33, V21, V12, V16, V30, V15, V14, V29, V13, V19, V20, D10, addr2, addr1, card2, card5, card3, V314, V315, V301, V300, V296, V289, V288, V283, V282, V281, D1, V313, V124, V125, V113, V118, V130, V97, V96, V95, V126, V115, V116, V117, V119, V98, V120, V121, V129, V128, V127, V114, V122, V123, V131, V99, V134, V100, V137, V136, V135, V110, V109, V108, V107, V133, V112, V106, V105, V104, V103, V102, V101, V132, V111, V320, V321, V316, V319, V291, V298, V297, V295, V294, V293, V292, V290, V318, V287, V286, V285, V284, V280, V279, V299, V302, V303, V304, V305, V306, V307, V308, V309, V310, V311, V312, V317, card1, TransactionAmt, TransactionDT, C12, C1, C2, C3, C4, C5, C6, C7, C8, C9, C10, C11, C14, C13, TransactionID, id_33, id_30, id_34, DeviceInfo, id_16, P_emaildomain, R_emaildomain, id_31, DeviceType, id_29, id_28, id_38, id_35, id_37, id_15, id_36, card4, card6, ProductCD, id_12'"
                    }, 
                    "output_type": "execute_result"
                }
            ], 
            "source": "col_query = col_train[0]\nfor col in col_train[1:]:\n    if col != 'isFraud':\n        col_query = col_query + ', ' + col\ncol_query"
        }, 
        {
            "execution_count": 15, 
            "cell_type": "code", 
            "metadata": {}, 
            "outputs": [], 
            "source": "query = f\"\"\"\nSELECT \n    {col_query}\n    FROM transaction_identity\n\"\"\"\n\ntransaction_identity2 = sql(query)\ntransaction_identity2.createOrReplaceTempView(\"transaction_identity2\")"
        }, 
        {
            "execution_count": 16, 
            "cell_type": "code", 
            "metadata": {}, 
            "outputs": [], 
            "source": "# save\npath = \"cos://default-donotdelete-pr-l16zufkrkht8vm.os_938e241641654cf0a8c1bb0aefbea33d_configs/transaction_id_test.csv\"\ntransaction_identity2.write.format('org.apache.spark.sql.execution.datasources.csv.CSVFileFormat')\\\n    .option('header', 'true').save(path)"
        }, 
        {
            "source": "## Data Cleansing", 
            "cell_type": "markdown", 
            "metadata": {}
        }, 
        {
            "execution_count": 16, 
            "cell_type": "code", 
            "metadata": {}, 
            "outputs": [], 
            "source": "df_test = spark.read\\\n  .format('org.apache.spark.sql.execution.datasources.csv.CSVFileFormat')\\\n  .option('header', 'true')\\\n  .load(cos.url('transaction_id_test.csv', 'default-donotdelete-pr-l16zufkrkht8vm'))"
        }, 
        {
            "execution_count": 18, 
            "cell_type": "code", 
            "metadata": {}, 
            "outputs": [
                {
                    "execution_count": 18, 
                    "metadata": {}, 
                    "data": {
                        "text/plain": "506691"
                    }, 
                    "output_type": "execute_result"
                }
            ], 
            "source": "df_test.count()"
        }, 
        {
            "execution_count": 19, 
            "cell_type": "code", 
            "metadata": {}, 
            "outputs": [], 
            "source": "# df_train loaded already above\ndf_train.createOrReplaceTempView(\"df_train\")\ndf_test.createOrReplaceTempView(\"df_test\")"
        }, 
        {
            "source": "### Data Types", 
            "cell_type": "markdown", 
            "metadata": {}
        }, 
        {
            "execution_count": null, 
            "cell_type": "code", 
            "metadata": {
                "pixiedust": {
                    "displayParams": {
                        "rowCount": "3", 
                        "handlerId": "tableView", 
                        "table_noschema": "true"
                    }
                }
            }, 
            "outputs": [], 
            "source": "display(df_train)"
        }, 
        {
            "execution_count": 21, 
            "cell_type": "code", 
            "metadata": {
                "pixiedust": {
                    "displayParams": {
                        "rowCount": "3", 
                        "handlerId": "tableView", 
                        "table_nosearch": "true", 
                        "table_noschema": "true"
                    }
                }
            }, 
            "outputs": [], 
            "source": "display(df_test)"
        }, 
        {
            "execution_count": 22, 
            "cell_type": "code", 
            "metadata": {}, 
            "outputs": [
                {
                    "output_type": "stream", 
                    "name": "stdout", 
                    "text": "[('D13', 'float'), ('D14', 'float'), ('D12', 'float'), ('id_04', 'float'), ('id_03', 'float')]\n[('id_36', 'string'), ('card4', 'string'), ('card6', 'string'), ('ProductCD', 'string'), ('id_12', 'string')]\n"
                }
            ], 
            "source": "# get categorical and numerical columns\ncat = ['id_33', 'id_30', 'id_34', 'DeviceInfo', 'id_16', \n       'P_emaildomain', 'R_emaildomain', 'id_31', 'DeviceType', \n       'id_29', 'id_28', 'id_38', 'id_35', 'id_37', 'id_15',\n      'id_36', 'card4', 'card6', 'ProductCD', 'id_12'] \nnum = [c for c in df_train.columns if c not in cat]\n\nnumcat = num + cat\ntypes = ['float' for i in range(len(num))] + ['string' for i in range(len(cat))]\nnumcat_types = list(zip(numcat, types))\nprint(numcat_types[:5])\nprint(numcat_types[-5:])"
        }, 
        {
            "execution_count": null, 
            "cell_type": "code", 
            "metadata": {
                "pixiedust": {
                    "displayParams": {
                        "rowCount": "3", 
                        "handlerId": "tableView", 
                        "table_nosearch": "true", 
                        "table_noschema": "true"
                    }
                }
            }, 
            "outputs": [], 
            "source": "# converting numbers from string to float\n\ndf_train2 = df_train.select(*(df_train[col].cast(types).alias(col)\n                        for col, types in numcat_types))\ndisplay(df_train2)"
        }, 
        {
            "execution_count": null, 
            "cell_type": "code", 
            "metadata": {
                "pixiedust": {
                    "displayParams": {
                        "rowCount": "3", 
                        "handlerId": "tableView", 
                        "table_nosearch": "true", 
                        "table_noschema": "true"
                    }
                }
            }, 
            "outputs": [], 
            "source": "# converting numbers from string to float\n\n# get categorical and numerical columns\ncat = ['id_33', 'id_30', 'id_34', 'DeviceInfo', 'id_16', \n       'P_emaildomain', 'R_emaildomain', 'id_31', 'DeviceType', \n       'id_29', 'id_28', 'id_38', 'id_35', 'id_37', 'id_15',\n      'id_36', 'card4', 'card6', 'ProductCD', 'id_12'] \nnum = [c for c in df_test.columns if c not in cat]\n\nnumcat = num + cat\ntypes = ['float' for i in range(len(num))] + ['string' for i in range(len(cat))]\nnumcat_types = list(zip(numcat, types))\nprint(numcat_types[:5])\nprint(numcat_types[-5:])\n\ndf_test2 = df_test.select(*(df_test[col].cast(types).alias(col)\n                        for col, types in numcat_types))\ndisplay(df_test2)"
        }, 
        {
            "execution_count": 25, 
            "cell_type": "code", 
            "metadata": {}, 
            "outputs": [], 
            "source": "df_train2.createOrReplaceTempView('df_train2')\ndf_test2.createOrReplaceTempView('df_test2')"
        }, 
        {
            "source": "### Duplicates", 
            "cell_type": "markdown", 
            "metadata": {}
        }, 
        {
            "execution_count": 26, 
            "cell_type": "code", 
            "metadata": {}, 
            "outputs": [
                {
                    "output_type": "stream", 
                    "name": "stdout", 
                    "text": "+--------+-----------------------------+\n|count(1)|count(DISTINCT transactionID)|\n+--------+-----------------------------+\n|  590540|                       590540|\n+--------+-----------------------------+\n\n"
                }
            ], 
            "source": "query = \"\"\"\nSELECT COUNT(*), COUNT(DISTINCT(transactionID))\nFROM df_train2\n\"\"\"\n\nsql(query).show()"
        }, 
        {
            "execution_count": 27, 
            "cell_type": "code", 
            "metadata": {}, 
            "outputs": [
                {
                    "output_type": "stream", 
                    "name": "stdout", 
                    "text": "+--------+-----------------------------+\n|count(1)|count(DISTINCT transactionID)|\n+--------+-----------------------------+\n|  506691|                       506691|\n+--------+-----------------------------+\n\n"
                }
            ], 
            "source": "query = \"\"\"\nSELECT COUNT(*), COUNT(DISTINCT(transactionID))\nFROM df_test2\n\"\"\"\n\nsql(query).show()"
        }, 
        {
            "source": "### Null Values", 
            "cell_type": "markdown", 
            "metadata": {}
        }, 
        {
            "execution_count": 28, 
            "cell_type": "code", 
            "metadata": {
                "scrolled": true
            }, 
            "outputs": [
                {
                    "execution_count": 28, 
                    "metadata": {}, 
                    "data": {
                        "text/html": "<div>\n<style scoped>\n    .dataframe tbody tr th:only-of-type {\n        vertical-align: middle;\n    }\n\n    .dataframe tbody tr th {\n        vertical-align: top;\n    }\n\n    .dataframe thead th {\n        text-align: right;\n    }\n</style>\n<table border=\"1\" class=\"dataframe\">\n  <thead>\n    <tr style=\"text-align: right;\">\n      <th></th>\n      <th>counts</th>\n      <th>prop</th>\n    </tr>\n  </thead>\n  <tbody>\n    <tr>\n      <th>id_33</th>\n      <td>517251</td>\n      <td>0.875895</td>\n    </tr>\n    <tr>\n      <th>id_30</th>\n      <td>512975</td>\n      <td>0.868654</td>\n    </tr>\n    <tr>\n      <th>id_34</th>\n      <td>512735</td>\n      <td>0.868248</td>\n    </tr>\n    <tr>\n      <th>DeviceInfo</th>\n      <td>471874</td>\n      <td>0.799055</td>\n    </tr>\n    <tr>\n      <th>id_16</th>\n      <td>461200</td>\n      <td>0.780980</td>\n    </tr>\n    <tr>\n      <th>R_emaildomain</th>\n      <td>453249</td>\n      <td>0.767516</td>\n    </tr>\n    <tr>\n      <th>id_31</th>\n      <td>450258</td>\n      <td>0.762451</td>\n    </tr>\n    <tr>\n      <th>DeviceType</th>\n      <td>449730</td>\n      <td>0.761557</td>\n    </tr>\n    <tr>\n      <th>id_28</th>\n      <td>449562</td>\n      <td>0.761273</td>\n    </tr>\n    <tr>\n      <th>id_29</th>\n      <td>449562</td>\n      <td>0.761273</td>\n    </tr>\n    <tr>\n      <th>id_36</th>\n      <td>449555</td>\n      <td>0.761261</td>\n    </tr>\n    <tr>\n      <th>id_15</th>\n      <td>449555</td>\n      <td>0.761261</td>\n    </tr>\n    <tr>\n      <th>id_37</th>\n      <td>449555</td>\n      <td>0.761261</td>\n    </tr>\n    <tr>\n      <th>id_35</th>\n      <td>449555</td>\n      <td>0.761261</td>\n    </tr>\n    <tr>\n      <th>id_38</th>\n      <td>449555</td>\n      <td>0.761261</td>\n    </tr>\n    <tr>\n      <th>id_12</th>\n      <td>446307</td>\n      <td>0.755761</td>\n    </tr>\n    <tr>\n      <th>P_emaildomain</th>\n      <td>94456</td>\n      <td>0.159949</td>\n    </tr>\n    <tr>\n      <th>card4</th>\n      <td>1577</td>\n      <td>0.002670</td>\n    </tr>\n    <tr>\n      <th>card6</th>\n      <td>1571</td>\n      <td>0.002660</td>\n    </tr>\n    <tr>\n      <th>V26</th>\n      <td>0</td>\n      <td>0.000000</td>\n    </tr>\n    <tr>\n      <th>V15</th>\n      <td>0</td>\n      <td>0.000000</td>\n    </tr>\n    <tr>\n      <th>V30</th>\n      <td>0</td>\n      <td>0.000000</td>\n    </tr>\n    <tr>\n      <th>V16</th>\n      <td>0</td>\n      <td>0.000000</td>\n    </tr>\n    <tr>\n      <th>V12</th>\n      <td>0</td>\n      <td>0.000000</td>\n    </tr>\n    <tr>\n      <th>V21</th>\n      <td>0</td>\n      <td>0.000000</td>\n    </tr>\n    <tr>\n      <th>V33</th>\n      <td>0</td>\n      <td>0.000000</td>\n    </tr>\n    <tr>\n      <th>V23</th>\n      <td>0</td>\n      <td>0.000000</td>\n    </tr>\n    <tr>\n      <th>V24</th>\n      <td>0</td>\n      <td>0.000000</td>\n    </tr>\n    <tr>\n      <th>V25</th>\n      <td>0</td>\n      <td>0.000000</td>\n    </tr>\n    <tr>\n      <th>V28</th>\n      <td>0</td>\n      <td>0.000000</td>\n    </tr>\n    <tr>\n      <th>...</th>\n      <td>...</td>\n      <td>...</td>\n    </tr>\n    <tr>\n      <th>id_19</th>\n      <td>0</td>\n      <td>0.000000</td>\n    </tr>\n    <tr>\n      <th>id_20</th>\n      <td>0</td>\n      <td>0.000000</td>\n    </tr>\n    <tr>\n      <th>id_06</th>\n      <td>0</td>\n      <td>0.000000</td>\n    </tr>\n    <tr>\n      <th>id_05</th>\n      <td>0</td>\n      <td>0.000000</td>\n    </tr>\n    <tr>\n      <th>V207</th>\n      <td>0</td>\n      <td>0.000000</td>\n    </tr>\n    <tr>\n      <th>V183</th>\n      <td>0</td>\n      <td>0.000000</td>\n    </tr>\n    <tr>\n      <th>V186</th>\n      <td>0</td>\n      <td>0.000000</td>\n    </tr>\n    <tr>\n      <th>V187</th>\n      <td>0</td>\n      <td>0.000000</td>\n    </tr>\n    <tr>\n      <th>V201</th>\n      <td>0</td>\n      <td>0.000000</td>\n    </tr>\n    <tr>\n      <th>V200</th>\n      <td>0</td>\n      <td>0.000000</td>\n    </tr>\n    <tr>\n      <th>V198</th>\n      <td>0</td>\n      <td>0.000000</td>\n    </tr>\n    <tr>\n      <th>V197</th>\n      <td>0</td>\n      <td>0.000000</td>\n    </tr>\n    <tr>\n      <th>V195</th>\n      <td>0</td>\n      <td>0.000000</td>\n    </tr>\n    <tr>\n      <th>V194</th>\n      <td>0</td>\n      <td>0.000000</td>\n    </tr>\n    <tr>\n      <th>V180</th>\n      <td>0</td>\n      <td>0.000000</td>\n    </tr>\n    <tr>\n      <th>V189</th>\n      <td>0</td>\n      <td>0.000000</td>\n    </tr>\n    <tr>\n      <th>V184</th>\n      <td>0</td>\n      <td>0.000000</td>\n    </tr>\n    <tr>\n      <th>V174</th>\n      <td>0</td>\n      <td>0.000000</td>\n    </tr>\n    <tr>\n      <th>V188</th>\n      <td>0</td>\n      <td>0.000000</td>\n    </tr>\n    <tr>\n      <th>V190</th>\n      <td>0</td>\n      <td>0.000000</td>\n    </tr>\n    <tr>\n      <th>V182</th>\n      <td>0</td>\n      <td>0.000000</td>\n    </tr>\n    <tr>\n      <th>V192</th>\n      <td>0</td>\n      <td>0.000000</td>\n    </tr>\n    <tr>\n      <th>V199</th>\n      <td>0</td>\n      <td>0.000000</td>\n    </tr>\n    <tr>\n      <th>V193</th>\n      <td>0</td>\n      <td>0.000000</td>\n    </tr>\n    <tr>\n      <th>V204</th>\n      <td>0</td>\n      <td>0.000000</td>\n    </tr>\n    <tr>\n      <th>V205</th>\n      <td>0</td>\n      <td>0.000000</td>\n    </tr>\n    <tr>\n      <th>V196</th>\n      <td>0</td>\n      <td>0.000000</td>\n    </tr>\n    <tr>\n      <th>V191</th>\n      <td>0</td>\n      <td>0.000000</td>\n    </tr>\n    <tr>\n      <th>V206</th>\n      <td>0</td>\n      <td>0.000000</td>\n    </tr>\n    <tr>\n      <th>V40</th>\n      <td>0</td>\n      <td>0.000000</td>\n    </tr>\n  </tbody>\n</table>\n<p>413 rows \u00d7 2 columns</p>\n</div>", 
                        "text/plain": "               counts      prop\nid_33          517251  0.875895\nid_30          512975  0.868654\nid_34          512735  0.868248\nDeviceInfo     471874  0.799055\nid_16          461200  0.780980\nR_emaildomain  453249  0.767516\nid_31          450258  0.762451\nDeviceType     449730  0.761557\nid_28          449562  0.761273\nid_29          449562  0.761273\nid_36          449555  0.761261\nid_15          449555  0.761261\nid_37          449555  0.761261\nid_35          449555  0.761261\nid_38          449555  0.761261\nid_12          446307  0.755761\nP_emaildomain   94456  0.159949\ncard4            1577  0.002670\ncard6            1571  0.002660\nV26                 0  0.000000\nV15                 0  0.000000\nV30                 0  0.000000\nV16                 0  0.000000\nV12                 0  0.000000\nV21                 0  0.000000\nV33                 0  0.000000\nV23                 0  0.000000\nV24                 0  0.000000\nV25                 0  0.000000\nV28                 0  0.000000\n...               ...       ...\nid_19               0  0.000000\nid_20               0  0.000000\nid_06               0  0.000000\nid_05               0  0.000000\nV207                0  0.000000\nV183                0  0.000000\nV186                0  0.000000\nV187                0  0.000000\nV201                0  0.000000\nV200                0  0.000000\nV198                0  0.000000\nV197                0  0.000000\nV195                0  0.000000\nV194                0  0.000000\nV180                0  0.000000\nV189                0  0.000000\nV184                0  0.000000\nV174                0  0.000000\nV188                0  0.000000\nV190                0  0.000000\nV182                0  0.000000\nV192                0  0.000000\nV199                0  0.000000\nV193                0  0.000000\nV204                0  0.000000\nV205                0  0.000000\nV196                0  0.000000\nV191                0  0.000000\nV206                0  0.000000\nV40                 0  0.000000\n\n[413 rows x 2 columns]"
                    }, 
                    "output_type": "execute_result"
                }
            ], 
            "source": "from pyspark.sql.functions import col, sum\n\n# replace all null values with 0\ndf_train3 = df_train2.fillna(value=0)\n\nnulls = df_train3.select(*(sum(col(c).isNull().cast(\"int\")).alias(c) for c in df_train3.columns))\nnulls_pd = nulls.toPandas().transpose()\n\nnum_trans = df_train3.count()\nnulls_pd.columns = ['counts']\nnulls_pd[\"prop\"] = nulls_pd.counts / num_trans\nnulls_pd.sort_values(by=\"prop\", ascending=False)"
        }, 
        {
            "execution_count": 29, 
            "cell_type": "code", 
            "metadata": {
                "scrolled": true
            }, 
            "outputs": [
                {
                    "execution_count": 29, 
                    "metadata": {}, 
                    "data": {
                        "text/html": "<div>\n<style scoped>\n    .dataframe tbody tr th:only-of-type {\n        vertical-align: middle;\n    }\n\n    .dataframe tbody tr th {\n        vertical-align: top;\n    }\n\n    .dataframe thead th {\n        text-align: right;\n    }\n</style>\n<table border=\"1\" class=\"dataframe\">\n  <thead>\n    <tr style=\"text-align: right;\">\n      <th></th>\n      <th>counts</th>\n      <th>prop</th>\n    </tr>\n  </thead>\n  <tbody>\n    <tr>\n      <th>id_30</th>\n      <td>436032</td>\n      <td>0.860548</td>\n    </tr>\n    <tr>\n      <th>id_33</th>\n      <td>436020</td>\n      <td>0.860524</td>\n    </tr>\n    <tr>\n      <th>id_34</th>\n      <td>434516</td>\n      <td>0.857556</td>\n    </tr>\n    <tr>\n      <th>DeviceInfo</th>\n      <td>391634</td>\n      <td>0.772925</td>\n    </tr>\n    <tr>\n      <th>id_16</th>\n      <td>380944</td>\n      <td>0.751827</td>\n    </tr>\n    <tr>\n      <th>R_emaildomain</th>\n      <td>370821</td>\n      <td>0.731848</td>\n    </tr>\n    <tr>\n      <th>id_31</th>\n      <td>370066</td>\n      <td>0.730358</td>\n    </tr>\n    <tr>\n      <th>id_28</th>\n      <td>369913</td>\n      <td>0.730056</td>\n    </tr>\n    <tr>\n      <th>id_29</th>\n      <td>369913</td>\n      <td>0.730056</td>\n    </tr>\n    <tr>\n      <th>DeviceType</th>\n      <td>369760</td>\n      <td>0.729754</td>\n    </tr>\n    <tr>\n      <th>id_36</th>\n      <td>369714</td>\n      <td>0.729664</td>\n    </tr>\n    <tr>\n      <th>id_15</th>\n      <td>369714</td>\n      <td>0.729664</td>\n    </tr>\n    <tr>\n      <th>id_37</th>\n      <td>369714</td>\n      <td>0.729664</td>\n    </tr>\n    <tr>\n      <th>id_35</th>\n      <td>369714</td>\n      <td>0.729664</td>\n    </tr>\n    <tr>\n      <th>id_38</th>\n      <td>369714</td>\n      <td>0.729664</td>\n    </tr>\n    <tr>\n      <th>id_12</th>\n      <td>364784</td>\n      <td>0.719934</td>\n    </tr>\n    <tr>\n      <th>P_emaildomain</th>\n      <td>69192</td>\n      <td>0.136557</td>\n    </tr>\n    <tr>\n      <th>card4</th>\n      <td>3086</td>\n      <td>0.006090</td>\n    </tr>\n    <tr>\n      <th>card6</th>\n      <td>3007</td>\n      <td>0.005935</td>\n    </tr>\n    <tr>\n      <th>V27</th>\n      <td>0</td>\n      <td>0.000000</td>\n    </tr>\n    <tr>\n      <th>V30</th>\n      <td>0</td>\n      <td>0.000000</td>\n    </tr>\n    <tr>\n      <th>V16</th>\n      <td>0</td>\n      <td>0.000000</td>\n    </tr>\n    <tr>\n      <th>V12</th>\n      <td>0</td>\n      <td>0.000000</td>\n    </tr>\n    <tr>\n      <th>V21</th>\n      <td>0</td>\n      <td>0.000000</td>\n    </tr>\n    <tr>\n      <th>V33</th>\n      <td>0</td>\n      <td>0.000000</td>\n    </tr>\n    <tr>\n      <th>V23</th>\n      <td>0</td>\n      <td>0.000000</td>\n    </tr>\n    <tr>\n      <th>V24</th>\n      <td>0</td>\n      <td>0.000000</td>\n    </tr>\n    <tr>\n      <th>V25</th>\n      <td>0</td>\n      <td>0.000000</td>\n    </tr>\n    <tr>\n      <th>V26</th>\n      <td>0</td>\n      <td>0.000000</td>\n    </tr>\n    <tr>\n      <th>V17</th>\n      <td>0</td>\n      <td>0.000000</td>\n    </tr>\n    <tr>\n      <th>...</th>\n      <td>...</td>\n      <td>...</td>\n    </tr>\n    <tr>\n      <th>id_20</th>\n      <td>0</td>\n      <td>0.000000</td>\n    </tr>\n    <tr>\n      <th>id_06</th>\n      <td>0</td>\n      <td>0.000000</td>\n    </tr>\n    <tr>\n      <th>id_05</th>\n      <td>0</td>\n      <td>0.000000</td>\n    </tr>\n    <tr>\n      <th>V269</th>\n      <td>0</td>\n      <td>0.000000</td>\n    </tr>\n    <tr>\n      <th>V211</th>\n      <td>0</td>\n      <td>0.000000</td>\n    </tr>\n    <tr>\n      <th>V207</th>\n      <td>0</td>\n      <td>0.000000</td>\n    </tr>\n    <tr>\n      <th>V183</th>\n      <td>0</td>\n      <td>0.000000</td>\n    </tr>\n    <tr>\n      <th>V186</th>\n      <td>0</td>\n      <td>0.000000</td>\n    </tr>\n    <tr>\n      <th>V200</th>\n      <td>0</td>\n      <td>0.000000</td>\n    </tr>\n    <tr>\n      <th>V198</th>\n      <td>0</td>\n      <td>0.000000</td>\n    </tr>\n    <tr>\n      <th>V197</th>\n      <td>0</td>\n      <td>0.000000</td>\n    </tr>\n    <tr>\n      <th>V195</th>\n      <td>0</td>\n      <td>0.000000</td>\n    </tr>\n    <tr>\n      <th>V194</th>\n      <td>0</td>\n      <td>0.000000</td>\n    </tr>\n    <tr>\n      <th>V180</th>\n      <td>0</td>\n      <td>0.000000</td>\n    </tr>\n    <tr>\n      <th>V189</th>\n      <td>0</td>\n      <td>0.000000</td>\n    </tr>\n    <tr>\n      <th>V184</th>\n      <td>0</td>\n      <td>0.000000</td>\n    </tr>\n    <tr>\n      <th>V174</th>\n      <td>0</td>\n      <td>0.000000</td>\n    </tr>\n    <tr>\n      <th>V188</th>\n      <td>0</td>\n      <td>0.000000</td>\n    </tr>\n    <tr>\n      <th>V190</th>\n      <td>0</td>\n      <td>0.000000</td>\n    </tr>\n    <tr>\n      <th>V182</th>\n      <td>0</td>\n      <td>0.000000</td>\n    </tr>\n    <tr>\n      <th>V192</th>\n      <td>0</td>\n      <td>0.000000</td>\n    </tr>\n    <tr>\n      <th>V199</th>\n      <td>0</td>\n      <td>0.000000</td>\n    </tr>\n    <tr>\n      <th>V193</th>\n      <td>0</td>\n      <td>0.000000</td>\n    </tr>\n    <tr>\n      <th>V204</th>\n      <td>0</td>\n      <td>0.000000</td>\n    </tr>\n    <tr>\n      <th>V205</th>\n      <td>0</td>\n      <td>0.000000</td>\n    </tr>\n    <tr>\n      <th>V196</th>\n      <td>0</td>\n      <td>0.000000</td>\n    </tr>\n    <tr>\n      <th>V191</th>\n      <td>0</td>\n      <td>0.000000</td>\n    </tr>\n    <tr>\n      <th>V206</th>\n      <td>0</td>\n      <td>0.000000</td>\n    </tr>\n    <tr>\n      <th>V187</th>\n      <td>0</td>\n      <td>0.000000</td>\n    </tr>\n    <tr>\n      <th>V40</th>\n      <td>0</td>\n      <td>0.000000</td>\n    </tr>\n  </tbody>\n</table>\n<p>412 rows \u00d7 2 columns</p>\n</div>", 
                        "text/plain": "               counts      prop\nid_30          436032  0.860548\nid_33          436020  0.860524\nid_34          434516  0.857556\nDeviceInfo     391634  0.772925\nid_16          380944  0.751827\nR_emaildomain  370821  0.731848\nid_31          370066  0.730358\nid_28          369913  0.730056\nid_29          369913  0.730056\nDeviceType     369760  0.729754\nid_36          369714  0.729664\nid_15          369714  0.729664\nid_37          369714  0.729664\nid_35          369714  0.729664\nid_38          369714  0.729664\nid_12          364784  0.719934\nP_emaildomain   69192  0.136557\ncard4            3086  0.006090\ncard6            3007  0.005935\nV27                 0  0.000000\nV30                 0  0.000000\nV16                 0  0.000000\nV12                 0  0.000000\nV21                 0  0.000000\nV33                 0  0.000000\nV23                 0  0.000000\nV24                 0  0.000000\nV25                 0  0.000000\nV26                 0  0.000000\nV17                 0  0.000000\n...               ...       ...\nid_20               0  0.000000\nid_06               0  0.000000\nid_05               0  0.000000\nV269                0  0.000000\nV211                0  0.000000\nV207                0  0.000000\nV183                0  0.000000\nV186                0  0.000000\nV200                0  0.000000\nV198                0  0.000000\nV197                0  0.000000\nV195                0  0.000000\nV194                0  0.000000\nV180                0  0.000000\nV189                0  0.000000\nV184                0  0.000000\nV174                0  0.000000\nV188                0  0.000000\nV190                0  0.000000\nV182                0  0.000000\nV192                0  0.000000\nV199                0  0.000000\nV193                0  0.000000\nV204                0  0.000000\nV205                0  0.000000\nV196                0  0.000000\nV191                0  0.000000\nV206                0  0.000000\nV187                0  0.000000\nV40                 0  0.000000\n\n[412 rows x 2 columns]"
                    }, 
                    "output_type": "execute_result"
                }
            ], 
            "source": "# replace all null values with 0\ndf_test3 = df_test2.fillna(value=0)\n\nnulls = df_test3.select(*(sum(col(c).isNull().cast(\"int\")).alias(c) for c in df_test3.columns))\nnulls_pd = nulls.toPandas().transpose()\n\nnum_trans = df_test3.count()\nnulls_pd.columns = ['counts']\nnulls_pd[\"prop\"] = nulls_pd.counts / num_trans\nnulls_pd.sort_values(by=\"prop\", ascending=False)"
        }, 
        {
            "execution_count": 30, 
            "cell_type": "code", 
            "metadata": {}, 
            "outputs": [], 
            "source": "# save test\n# save\npath = \"cos://default-donotdelete-pr-l16zufkrkht8vm.os_938e241641654cf0a8c1bb0aefbea33d_configs/transaction_id_test_nonull.csv\"\ndf_test3.write.format('org.apache.spark.sql.execution.datasources.csv.CSVFileFormat')\\\n    .option('header', 'true').save(path)"
        }, 
        {
            "execution_count": 35, 
            "cell_type": "code", 
            "metadata": {}, 
            "outputs": [], 
            "source": "# save train\n# save\npath = \"cos://default-donotdelete-pr-l16zufkrkht8vm.os_938e241641654cf0a8c1bb0aefbea33d_configs/transaction_id_train_nonull.csv\"\ndf_train3.write.format('org.apache.spark.sql.execution.datasources.csv.CSVFileFormat')\\\n    .option('header', 'true').save(path)"
        }, 
        {
            "source": "### Stats Per Numerical Column", 
            "cell_type": "markdown", 
            "metadata": {}
        }, 
        {
            "execution_count": null, 
            "cell_type": "code", 
            "metadata": {
                "pixiedust": {
                    "displayParams": {
                        "handlerId": "tableView"
                    }
                }
            }, 
            "outputs": [], 
            "source": "# min, max, mean, stddev\n\nstats_train = df_train3.describe()\ndisplay(stats_train)"
        }, 
        {
            "execution_count": null, 
            "cell_type": "code", 
            "metadata": {
                "pixiedust": {
                    "displayParams": {
                        "handlerId": "tableView"
                    }
                }
            }, 
            "outputs": [], 
            "source": "# min, max, mean, stddev\n\nstats_test = df_test3.describe()\ndisplay(stats_test)"
        }, 
        {
            "execution_count": 33, 
            "cell_type": "code", 
            "metadata": {}, 
            "outputs": [
                {
                    "execution_count": 33, 
                    "metadata": {}, 
                    "data": {
                        "text/plain": "(506691, 590540)"
                    }, 
                    "output_type": "execute_result"
                }
            ], 
            "source": "df_test3.count(), df_train3.count()"
        }, 
        {
            "execution_count": null, 
            "cell_type": "code", 
            "metadata": {}, 
            "outputs": [], 
            "source": ""
        }
    ], 
    "metadata": {
        "kernelspec": {
            "display_name": "Python 3.6 with Spark", 
            "name": "python36", 
            "language": "python3"
        }, 
        "language_info": {
            "mimetype": "text/x-python", 
            "nbconvert_exporter": "python", 
            "version": "3.6.8", 
            "name": "python", 
            "file_extension": ".py", 
            "pygments_lexer": "ipython3", 
            "codemirror_mode": {
                "version": 3, 
                "name": "ipython"
            }
        }
    }, 
    "nbformat": 4
}